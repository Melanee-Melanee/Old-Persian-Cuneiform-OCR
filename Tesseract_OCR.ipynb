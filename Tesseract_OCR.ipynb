{
  "nbformat": 4,
  "nbformat_minor": 0,
  "metadata": {
    "colab": {
      "provenance": [],
      "authorship_tag": "ABX9TyP+Sh7Y8c8oPrYoMjhiLUZx",
      "include_colab_link": true
    },
    "kernelspec": {
      "name": "python3",
      "display_name": "Python 3"
    },
    "language_info": {
      "name": "python"
    }
  },
  "cells": [
    {
      "cell_type": "markdown",
      "metadata": {
        "id": "view-in-github",
        "colab_type": "text"
      },
      "source": [
        "<a href=\"https://colab.research.google.com/github/Melanee-Melanee/Old-Persian-Cuneiform-OCR/blob/main/Tesseract_OCR.ipynb\" target=\"_parent\"><img src=\"https://colab.research.google.com/assets/colab-badge.svg\" alt=\"Open In Colab\"/></a>"
      ]
    },
    {
      "cell_type": "markdown",
      "source": [
        "Youtube tutorial: https://www.youtube.com/watch?app=desktop&v=7XP5WiKw56Y&t=1117"
      ],
      "metadata": {
        "id": "qQcFZMmeZtb_"
      }
    },
    {
      "cell_type": "code",
      "execution_count": null,
      "metadata": {
        "colab": {
          "base_uri": "https://localhost:8080/"
        },
        "id": "Hn3jExqt_eyi",
        "outputId": "d20e1762-44e2-409e-b632-b59a251c7c09"
      },
      "outputs": [
        {
          "output_type": "stream",
          "name": "stdout",
          "text": [
            "Collecting pytesseract\n",
            "  Downloading pytesseract-0.3.10-py3-none-any.whl (14 kB)\n",
            "Requirement already satisfied: packaging>=21.3 in /usr/local/lib/python3.10/dist-packages (from pytesseract) (24.0)\n",
            "Requirement already satisfied: Pillow>=8.0.0 in /usr/local/lib/python3.10/dist-packages (from pytesseract) (9.4.0)\n",
            "Installing collected packages: pytesseract\n",
            "Successfully installed pytesseract-0.3.10\n"
          ]
        }
      ],
      "source": [
        "!pip install pytesseract"
      ]
    },
    {
      "cell_type": "code",
      "source": [
        "!apt-get install tesseract-ocr"
      ],
      "metadata": {
        "colab": {
          "base_uri": "https://localhost:8080/"
        },
        "id": "ygC_wAg0EM_Q",
        "outputId": "1685bbd3-582b-4fd8-98e5-7534d47bbae1"
      },
      "execution_count": null,
      "outputs": [
        {
          "output_type": "stream",
          "name": "stdout",
          "text": [
            "Reading package lists... Done\n",
            "Building dependency tree... Done\n",
            "Reading state information... Done\n",
            "The following additional packages will be installed:\n",
            "  tesseract-ocr-eng tesseract-ocr-osd\n",
            "The following NEW packages will be installed:\n",
            "  tesseract-ocr tesseract-ocr-eng tesseract-ocr-osd\n",
            "0 upgraded, 3 newly installed, 0 to remove and 45 not upgraded.\n",
            "Need to get 4,816 kB of archives.\n",
            "After this operation, 15.6 MB of additional disk space will be used.\n",
            "Get:1 http://archive.ubuntu.com/ubuntu jammy/universe amd64 tesseract-ocr-eng all 1:4.00~git30-7274cfa-1.1 [1,591 kB]\n",
            "Get:2 http://archive.ubuntu.com/ubuntu jammy/universe amd64 tesseract-ocr-osd all 1:4.00~git30-7274cfa-1.1 [2,990 kB]\n",
            "Get:3 http://archive.ubuntu.com/ubuntu jammy/universe amd64 tesseract-ocr amd64 4.1.1-2.1build1 [236 kB]\n",
            "Fetched 4,816 kB in 1s (8,920 kB/s)\n",
            "Selecting previously unselected package tesseract-ocr-eng.\n",
            "(Reading database ... 121920 files and directories currently installed.)\n",
            "Preparing to unpack .../tesseract-ocr-eng_1%3a4.00~git30-7274cfa-1.1_all.deb ...\n",
            "Unpacking tesseract-ocr-eng (1:4.00~git30-7274cfa-1.1) ...\n",
            "Selecting previously unselected package tesseract-ocr-osd.\n",
            "Preparing to unpack .../tesseract-ocr-osd_1%3a4.00~git30-7274cfa-1.1_all.deb ...\n",
            "Unpacking tesseract-ocr-osd (1:4.00~git30-7274cfa-1.1) ...\n",
            "Selecting previously unselected package tesseract-ocr.\n",
            "Preparing to unpack .../tesseract-ocr_4.1.1-2.1build1_amd64.deb ...\n",
            "Unpacking tesseract-ocr (4.1.1-2.1build1) ...\n",
            "Setting up tesseract-ocr-eng (1:4.00~git30-7274cfa-1.1) ...\n",
            "Setting up tesseract-ocr-osd (1:4.00~git30-7274cfa-1.1) ...\n",
            "Setting up tesseract-ocr (4.1.1-2.1build1) ...\n",
            "Processing triggers for man-db (2.10.2-1) ...\n"
          ]
        }
      ]
    },
    {
      "cell_type": "code",
      "source": [
        "!pip install pillow"
      ],
      "metadata": {
        "colab": {
          "base_uri": "https://localhost:8080/"
        },
        "id": "AY9ka5CiAXP0",
        "outputId": "7e28d53d-b110-411a-87c9-9b9495654f3c"
      },
      "execution_count": null,
      "outputs": [
        {
          "output_type": "stream",
          "name": "stdout",
          "text": [
            "Requirement already satisfied: pillow in /usr/local/lib/python3.10/dist-packages (9.4.0)\n"
          ]
        }
      ]
    },
    {
      "cell_type": "code",
      "source": [
        "from PIL import Image\n",
        "import pytesseract"
      ],
      "metadata": {
        "id": "7iEmLnClAfcU"
      },
      "execution_count": null,
      "outputs": []
    },
    {
      "cell_type": "markdown",
      "source": [
        "## Find tesseracr executable path"
      ],
      "metadata": {
        "id": "_QUrBTADPYBm"
      }
    },
    {
      "cell_type": "code",
      "source": [
        "!which tesseract"
      ],
      "metadata": {
        "colab": {
          "base_uri": "https://localhost:8080/"
        },
        "id": "2C9uP-iXDOAX",
        "outputId": "55020379-3c6e-4601-b07c-ceb94d192425"
      },
      "execution_count": null,
      "outputs": [
        {
          "output_type": "stream",
          "name": "stdout",
          "text": [
            "/usr/bin/tesseract\n"
          ]
        }
      ]
    },
    {
      "cell_type": "code",
      "source": [
        "pytesseract.pytesseract.tesseract_cmd = r'/usr/bin/tesseract'"
      ],
      "metadata": {
        "id": "h0_RenZ5B6If"
      },
      "execution_count": null,
      "outputs": []
    },
    {
      "cell_type": "markdown",
      "source": [
        "# English language"
      ],
      "metadata": {
        "id": "HEQdKSrYPgp5"
      }
    },
    {
      "cell_type": "code",
      "source": [
        "img_path ='test.png'\n",
        "img = Image.open(img_path)"
      ],
      "metadata": {
        "id": "H8oNpQFxAr3B"
      },
      "execution_count": null,
      "outputs": []
    },
    {
      "cell_type": "code",
      "source": [
        "text = pytesseract.image_to_string(img)"
      ],
      "metadata": {
        "id": "xAAPMXdqBoey"
      },
      "execution_count": null,
      "outputs": []
    },
    {
      "cell_type": "code",
      "source": [
        "print(text)"
      ],
      "metadata": {
        "colab": {
          "base_uri": "https://localhost:8080/"
        },
        "id": "B-aI9C7rEr1c",
        "outputId": "fc76cd06-2345-4ff6-f5f2-2ad8b8c621c3"
      },
      "execution_count": null,
      "outputs": [
        {
          "output_type": "stream",
          "name": "stdout",
          "text": [
            "Extracting Old Persian Cuneiform Font Out of\n",
            "Noisy Images (Handwritten or Inscription)\n",
            "\f\n"
          ]
        }
      ]
    },
    {
      "cell_type": "markdown",
      "source": [
        "# Persian language\n",
        "\n",
        "1. I need to download data file for my persian language from: https://github.com/tesseract-ocr/tessdata\n",
        "\n",
        "3. Upload it in google colab machine\n",
        "\n",
        "2. Move \"fas.traineddata\" file in the tessdata directory of your machine"
      ],
      "metadata": {
        "id": "4469drnuPMSt"
      }
    },
    {
      "cell_type": "code",
      "source": [
        "!find / -name tessdata"
      ],
      "metadata": {
        "colab": {
          "base_uri": "https://localhost:8080/"
        },
        "id": "4VVNcHTTD_MW",
        "outputId": "151550ff-390c-440c-a501-8949bff89a95"
      },
      "execution_count": null,
      "outputs": [
        {
          "output_type": "stream",
          "name": "stdout",
          "text": [
            "find: ‘/proc/62/task/62/net’: Invalid argument\n",
            "find: ‘/proc/62/net’: Invalid argument\n",
            "/usr/share/tesseract-ocr/4.00/tessdata\n"
          ]
        }
      ]
    },
    {
      "cell_type": "code",
      "source": [
        "!mv /fas.traineddata /usr/share/tesseract-ocr/4.00/tessdata"
      ],
      "metadata": {
        "id": "ubsdXEe6M0iJ"
      },
      "execution_count": null,
      "outputs": []
    },
    {
      "cell_type": "code",
      "source": [
        "img_path_per ='test-persian.png'\n",
        "img = Image.open(img_path_per)"
      ],
      "metadata": {
        "id": "AMEdPCHRFZy_"
      },
      "execution_count": null,
      "outputs": []
    },
    {
      "cell_type": "code",
      "source": [],
      "metadata": {
        "id": "K2YkigMhxyD_"
      },
      "execution_count": null,
      "outputs": []
    },
    {
      "cell_type": "code",
      "source": [
        "text = pytesseract.image_to_string(img, lang='fas')"
      ],
      "metadata": {
        "id": "LkPq8tSIFodf"
      },
      "execution_count": null,
      "outputs": []
    },
    {
      "cell_type": "code",
      "source": [
        "print(text)"
      ],
      "metadata": {
        "colab": {
          "base_uri": "https://localhost:8080/"
        },
        "id": "7YFYW8e5FrSB",
        "outputId": "0de6a8b4-f549-49ef-ae1a-27b6e0de030b"
      },
      "execution_count": null,
      "outputs": [
        {
          "output_type": "stream",
          "name": "stdout",
          "text": [
            "ترجمه اسناد تاریخی با هوش مصنوعی\n",
            "\f\n"
          ]
        }
      ]
    },
    {
      "cell_type": "markdown",
      "source": [
        "# Old Persian"
      ],
      "metadata": {
        "id": "fn_rz9sFw5W8"
      }
    },
    {
      "cell_type": "markdown",
      "source": [
        "This pre-trained OCR model converts Old Persian cuneiform to English transcription and is taken from:\n",
        "\n",
        "https://github.com/SeyedMuhammadHosseinMousavi/Extracting-Old-Persian-Cuneiform/tree/main"
      ],
      "metadata": {
        "id": "KI2Zj4BtM60X"
      }
    },
    {
      "cell_type": "code",
      "source": [
        "# mount this notebook to Goole Drive\n",
        "\n",
        "from google.colab import drive\n",
        "drive.mount('/content/drive')"
      ],
      "metadata": {
        "colab": {
          "base_uri": "https://localhost:8080/"
        },
        "id": "BZDT03mg0gy4",
        "outputId": "e91bbca8-add7-4330-c6b3-556ca9f8ed8e"
      },
      "execution_count": null,
      "outputs": [
        {
          "output_type": "stream",
          "name": "stdout",
          "text": [
            "Drive already mounted at /content/drive; to attempt to forcibly remount, call drive.mount(\"/content/drive\", force_remount=True).\n"
          ]
        }
      ]
    },
    {
      "cell_type": "code",
      "source": [
        "!pwd\n"
      ],
      "metadata": {
        "colab": {
          "base_uri": "https://localhost:8080/"
        },
        "id": "wsp4PHOp08JU",
        "outputId": "4ae5259f-31b6-4a0d-f314-b3e9606a66f5"
      },
      "execution_count": null,
      "outputs": [
        {
          "output_type": "stream",
          "name": "stdout",
          "text": [
            "/content\n"
          ]
        }
      ]
    },
    {
      "cell_type": "code",
      "source": [
        "%cd /usr/share/tesseract-ocr/4.00/tessdata/\n"
      ],
      "metadata": {
        "colab": {
          "base_uri": "https://localhost:8080/"
        },
        "id": "An9VqJQm1sVo",
        "outputId": "8bcb2a53-eabb-4548-fd14-b7b9dc0e966b"
      },
      "execution_count": null,
      "outputs": [
        {
          "output_type": "stream",
          "name": "stdout",
          "text": [
            "/usr/share/tesseract-ocr/4.00/tessdata\n"
          ]
        }
      ]
    },
    {
      "cell_type": "code",
      "source": [
        "!mv /content/drive/MyDrive/Persiancuneiform1/tesseract/myLang.traineddata /usr/share/tesseract-ocr/4.00/tessdata"
      ],
      "metadata": {
        "id": "az-DxIRFw9PJ"
      },
      "execution_count": null,
      "outputs": []
    },
    {
      "cell_type": "code",
      "source": [
        "!ls /usr/share/tesseract-ocr/4.00/tessdata"
      ],
      "metadata": {
        "colab": {
          "base_uri": "https://localhost:8080/"
        },
        "id": "ymQnS57W2ZOM",
        "outputId": "a5012056-89b1-4bb4-88e4-c92103e33646"
      },
      "execution_count": null,
      "outputs": [
        {
          "output_type": "stream",
          "name": "stdout",
          "text": [
            "configs  eng.traineddata  myLang.traineddata  osd.traineddata  pdf.ttf\tPersepolis.ttf\ttessconfigs\n"
          ]
        }
      ]
    },
    {
      "cell_type": "code",
      "source": [
        "img_path ='/content/drive/MyDrive/Persiancuneiform1/d1.JPG'\n",
        "img = Image.open(img_path)"
      ],
      "metadata": {
        "id": "7QTX_vaM5lP6"
      },
      "execution_count": null,
      "outputs": []
    },
    {
      "cell_type": "code",
      "source": [
        "text = pytesseract.image_to_string(img, lang='myLang')"
      ],
      "metadata": {
        "id": "YFOfrkQY6Gps"
      },
      "execution_count": null,
      "outputs": []
    },
    {
      "cell_type": "code",
      "source": [
        "print(text)"
      ],
      "metadata": {
        "colab": {
          "base_uri": "https://localhost:8080/"
        },
        "id": "ZCFKCaTR6MH8",
        "outputId": "43915255-21a9-439b-bba0-9885c52b0fac"
      },
      "execution_count": null,
      "outputs": [
        {
          "output_type": "stream",
          "name": "stdout",
          "text": [
            "Zatiy ; dalyvu S ; xSay\n",
            "Zdy mna;aul bpmma;u stam;\n",
            "blT uv; Nnda ; VdZdbiS ; bgd\n",
            "bdS;uta;dmam;dhyaum;aul\n",
            "mzda ; paTuv ; Qca;hd bay\n",
            "a;Qca ; QuSdyala ; Nnca; dl\n",
            "uga ;abdy ;dmam ;dhyaum ;ma\n",
            "\n",
            ";ajM iya\n",
            "\f\n"
          ]
        }
      ]
    },
    {
      "cell_type": "code",
      "source": [
        "img_path ='/content/drive/MyDrive/Persiancuneiform1/darius.png'\n",
        "img = Image.open(img_path)"
      ],
      "metadata": {
        "id": "CrrTANk7CyxE"
      },
      "execution_count": null,
      "outputs": []
    },
    {
      "cell_type": "code",
      "source": [
        "text = pytesseract.image_to_string(img, lang='myLang')"
      ],
      "metadata": {
        "id": "vJkHCBJ3C6PB"
      },
      "execution_count": null,
      "outputs": []
    },
    {
      "cell_type": "code",
      "source": [
        "print(text)"
      ],
      "metadata": {
        "colab": {
          "base_uri": "https://localhost:8080/"
        },
        "id": "73jsjx3cC8O-",
        "outputId": "a1eac0e5-4934-4955-f094-1ccd4763c4b1"
      },
      "execution_count": null,
      "outputs": [
        {
          "output_type": "stream",
          "name": "stdout",
          "text": [
            "b T ; v z r k ; a u rt z i a ; Q y ; i tma t\n",
            "\n",
            "; b u M i t ; a i a ; Q y ; a v t ; a s tma n t\n",
            "\n",
            "; aia ; Qy ;trtiyt ; aia ; ny\n",
            "\n",
            "; S i y a t i t ; a i a ; trt i y Q y a\n",
            "\n",
            "; Q y ; i a r f s u t ; xS a y Z i y t ; a Kx n u S\n",
            "\n",
            "   \n",
            "\f\n"
          ]
        }
      ]
    },
    {
      "cell_type": "code",
      "source": [
        "img_path ='/content/drive/MyDrive/Persiancuneiform1/d2.png'\n",
        "img = Image.open(img_path)"
      ],
      "metadata": {
        "id": "gTCToG_iEA1l"
      },
      "execution_count": null,
      "outputs": []
    },
    {
      "cell_type": "code",
      "source": [
        "text = pytesseract.image_to_string(img, lang='myLang')"
      ],
      "metadata": {
        "id": "90qUfXNdEICk"
      },
      "execution_count": null,
      "outputs": []
    },
    {
      "cell_type": "code",
      "source": [
        "print(text)"
      ],
      "metadata": {
        "colab": {
          "base_uri": "https://localhost:8080/"
        },
        "id": "Y5ws71n9EKhS",
        "outputId": "db2c2ab0-803e-4570-a942-5f4a2d7a3974"
      },
      "execution_count": null,
      "outputs": [
        {
          "output_type": "stream",
          "name": "stdout",
          "text": [
            "bur;rszrk;aurbazda ;Sny ;dlaardr;buMca;a\n",
            "da;hy;arkm;asmafm;ada;hy;mrtdym;ada\n",
            ";Qy ;Sdyabbdba ; ada ;larbbdyNbya ;Rby ;dar\n",
            "ycsura ; Eyra ; aKunuS ; adbsba ; dRubarZ ; rKK\n",
            "\n",
            " \n",
            "\n",
            " \n",
            "\n",
            " \n",
            "\n",
            " \n",
            "\f\n"
          ]
        }
      ]
    },
    {
      "cell_type": "markdown",
      "source": [
        "# Akkadian"
      ],
      "metadata": {
        "id": "fcNsoo7f6wXD"
      }
    },
    {
      "cell_type": "markdown",
      "source": [
        "1- akk.traineddata file can be downloaded from: https://github.com/tesseract-ocr/tessdata_contrib/tree/main/akk\n",
        "\n",
        "2- upload akk.traineddata on google colab\n",
        "\n",
        "3 - move akk.traineddata in this path: /usr/share/tesseract-ocr/4.00/tessdata"
      ],
      "metadata": {
        "id": "4OiGxNalu4Mm"
      }
    },
    {
      "cell_type": "markdown",
      "source": [
        "## Install Akkadian font(Santakku.ttf)\n",
        "\n",
        "1. Download and then upload \"Persian-old.TTF\" file or Santakku.ttf\n",
        "2. Make a directory: ~/.local/share/fonts\n",
        "3. Move it ~/.local/share/fonts/"
      ],
      "metadata": {
        "id": "_udkacjQ7FKH"
      }
    },
    {
      "cell_type": "code",
      "source": [
        "!mkdir -p ~/.local/share/fonts\n"
      ],
      "metadata": {
        "id": "quVRg9nN1qQD"
      },
      "execution_count": null,
      "outputs": []
    },
    {
      "cell_type": "code",
      "source": [
        "!mv /Persian-old.TTF ~/.local/share/fonts/\n"
      ],
      "metadata": {
        "id": "Uh5TWZCu1t0F",
        "colab": {
          "base_uri": "https://localhost:8080/"
        },
        "outputId": "487a9c24-737e-4daa-8f57-1919dd6f0395"
      },
      "execution_count": null,
      "outputs": [
        {
          "output_type": "stream",
          "name": "stdout",
          "text": [
            "mv: cannot stat '/Persian-old.TTF': No such file or directory\n"
          ]
        }
      ]
    },
    {
      "cell_type": "code",
      "source": [
        "!fc-cache -f -v\n"
      ],
      "metadata": {
        "colab": {
          "base_uri": "https://localhost:8080/"
        },
        "id": "mVAuwN7O2Af1",
        "outputId": "77998c8e-4f80-4647-c632-77f9557c62d7"
      },
      "execution_count": null,
      "outputs": [
        {
          "output_type": "stream",
          "name": "stdout",
          "text": [
            "/usr/share/fonts: caching, new cache contents: 0 fonts, 1 dirs\n",
            "/usr/share/fonts/truetype: caching, new cache contents: 0 fonts, 2 dirs\n",
            "/usr/share/fonts/truetype/humor-sans: caching, new cache contents: 1 fonts, 0 dirs\n",
            "/usr/share/fonts/truetype/liberation: caching, new cache contents: 16 fonts, 0 dirs\n",
            "/usr/local/share/fonts: caching, new cache contents: 0 fonts, 0 dirs\n",
            "/root/.local/share/fonts: caching, new cache contents: 0 fonts, 0 dirs\n",
            "/root/.fonts: skipping, no such directory\n",
            "/usr/share/fonts/truetype: skipping, looped directory detected\n",
            "/usr/share/fonts/truetype/humor-sans: skipping, looped directory detected\n",
            "/usr/share/fonts/truetype/liberation: skipping, looped directory detected\n",
            "/var/cache/fontconfig: cleaning cache directory\n",
            "/root/.cache/fontconfig: not cleaning non-existent cache directory\n",
            "/root/.fontconfig: not cleaning non-existent cache directory\n",
            "fc-cache: succeeded\n"
          ]
        }
      ]
    },
    {
      "cell_type": "code",
      "source": [
        "import shutil\n",
        "\n",
        "# Replace 'your_font_file.ttf' with the actual name of your font file\n",
        "shutil.move('Santakku.ttf', '/usr/share/fonts/truetype/')\n"
      ],
      "metadata": {
        "colab": {
          "base_uri": "https://localhost:8080/",
          "height": 36
        },
        "id": "CjkbHmtZ4DNV",
        "outputId": "93da0d0e-d168-43da-d401-155f9806c506"
      },
      "execution_count": null,
      "outputs": [
        {
          "output_type": "execute_result",
          "data": {
            "text/plain": [
              "'/usr/share/fonts/truetype/Santakku.ttf'"
            ],
            "application/vnd.google.colaboratory.intrinsic+json": {
              "type": "string"
            }
          },
          "metadata": {},
          "execution_count": 12
        }
      ]
    },
    {
      "cell_type": "code",
      "source": [
        "import matplotlib.font_manager\n",
        "\n",
        "# Replace 'YourFontName' with the actual name of your font\n",
        "matplotlib.font_manager.fontManager.addfont('/usr/share/fonts/truetype/Santakku.ttf')\n"
      ],
      "metadata": {
        "id": "0f7e3KdM4eI-"
      },
      "execution_count": null,
      "outputs": []
    },
    {
      "cell_type": "code",
      "source": [
        "img_path_per ='akkadiann.png'\n",
        "img = Image.open(img_path_per)"
      ],
      "metadata": {
        "id": "Dozn0nUfxzp_"
      },
      "execution_count": null,
      "outputs": []
    },
    {
      "cell_type": "code",
      "source": [
        "text = pytesseract.image_to_string(img, lang='akk')"
      ],
      "metadata": {
        "id": "64X33ZWnzH2c"
      },
      "execution_count": null,
      "outputs": []
    },
    {
      "cell_type": "code",
      "source": [
        "print(text)"
      ],
      "metadata": {
        "colab": {
          "base_uri": "https://localhost:8080/"
        },
        "id": "vDQdDyLgzLhZ",
        "outputId": "7c98c20e-e292-4a86-a0ae-9557b6e76233"
      },
      "execution_count": null,
      "outputs": [
        {
          "output_type": "stream",
          "name": "stdout",
          "text": [
            "𒂊 𒉡 𒈠\n",
            "\n",
            " \n",
            "\n",
            " \n",
            "\n",
            " \n",
            "\n",
            " \n",
            "\n",
            " \n",
            "\n",
            " \n",
            "\n",
            " \n",
            "\n",
            "𒌷𒄯𒋗𒄿𒁖𒀾𒈪𒀾\n",
            "\n",
            " \n",
            "\n",
            " \n",
            "\n",
            "𒌈\n",
            "\n",
            " \n",
            "\n",
            " \n",
            "\n",
            " \n",
            "\n",
            " \n",
            "\n",
            " \n",
            "\n",
            "𒆷𒈤 𒀴𒈾𒁍\n",
            "\n",
            " \n",
            "\n",
            " \n",
            "\n",
            " \n",
            "\n",
            " \n",
            "\n",
            " \n",
            "\n",
            "𒐋 𒉡𒈠\n",
            "\n",
            " \n",
            "\n",
            " \n",
            "\n",
            " \n",
            "\n",
            " \n",
            "\n",
            " \n",
            "\n",
            " \n",
            "\n",
            " \n",
            "\n",
            " \n",
            "\n",
            " \n",
            "\n",
            " \n",
            "\n",
            " \n",
            "\n",
            " \n",
            "\f\n"
          ]
        }
      ]
    },
    {
      "cell_type": "markdown",
      "source": [
        "# Anceint Greek"
      ],
      "metadata": {
        "id": "jgvfn78FCwh5"
      }
    },
    {
      "cell_type": "code",
      "source": [
        "!mv /grc.traineddata /usr/share/tesseract-ocr/4.00/tessdata"
      ],
      "metadata": {
        "id": "e26K1yw7C0SZ"
      },
      "execution_count": null,
      "outputs": []
    },
    {
      "cell_type": "code",
      "source": [
        "img_path_per ='greek2.jpg'\n",
        "img = Image.open(img_path_per)"
      ],
      "metadata": {
        "id": "pdcCx3O1FEnh"
      },
      "execution_count": null,
      "outputs": []
    },
    {
      "cell_type": "code",
      "source": [
        "text = pytesseract.image_to_string(img, lang='grc')"
      ],
      "metadata": {
        "id": "KQYwDSuZFShR"
      },
      "execution_count": null,
      "outputs": []
    },
    {
      "cell_type": "code",
      "source": [
        "print(text)"
      ],
      "metadata": {
        "colab": {
          "base_uri": "https://localhost:8080/"
        },
        "id": "zo3QM_EZFW5C",
        "outputId": "5ed19e0c-abdd-4d4f-d4c3-87d1678fb018"
      },
      "execution_count": null,
      "outputs": [
        {
          "output_type": "stream",
          "name": "stdout",
          "text": [
            "          \n",
            "\n",
            "Ἐ ΕΝ Θῦᾖ...ι;...ω\n",
            "\n",
            "πς ϑρ ετ -.ωΐ Ν ὰ \"\n",
            "\n",
            "ὙΠ Ε Ἐ ς\n",
            "\n",
            "    \n",
            "     \n",
            "\n",
            " \n",
            "\n",
            "  \n",
            "\n",
            "Ὶ\n",
            "...͵Ν .\n",
            "\n",
            ".......Ξἓ ὑ Ἐ\n",
            "\n",
            "      \n",
            "        \n",
            "\n",
            "μ ι...ιι\n",
            "ΜἹ.ΦΒ\n",
            "\n",
            "Ζ... ΤΝ ἵ.....\n",
            "\n",
            "      \n",
            "\n",
            "ο τ -\n",
            "\n",
            "Ὑπο τ ς\n",
            "\n",
            "Ε Ἐ ΓΟΝ\n",
            "\n",
            "ὰ ...ῖ αἷηξέἦκ Ν Ἱἄ.......ὉἼἡ» ).ἂ.ιξ ΛΟ ἌΙΛ....ΜἸ\n",
            "\n",
            " \n",
            "\f\n"
          ]
        }
      ]
    },
    {
      "cell_type": "code",
      "source": [
        "#to check is my font installed or not:\n",
        "import matplotlib.font_manager\n",
        "fonts = matplotlib.font_manager.findSystemFonts()\n",
        "font_names = [matplotlib.font_manager.FontProperties(fname=f).get_name() for f in fonts]\n",
        "print(font_names)"
      ],
      "metadata": {
        "colab": {
          "base_uri": "https://localhost:8080/"
        },
        "id": "pEFyPTF1FYps",
        "outputId": "810f743d-561b-4b7d-9ab9-0e48261926c0"
      },
      "execution_count": null,
      "outputs": [
        {
          "output_type": "stream",
          "name": "stdout",
          "text": [
            "['Liberation Sans', 'Liberation Mono', 'Liberation Sans', 'Liberation Sans Narrow', 'Liberation Mono', 'Liberation Serif', 'Liberation Sans Narrow', 'Liberation Mono', 'Santakku', 'Liberation Sans', 'Humor Sans', 'Liberation Serif', 'Liberation Sans Narrow', 'Liberation Sans Narrow', 'Liberation Sans', 'Liberation Mono', 'Liberation Serif', 'Liberation Serif']\n"
          ]
        }
      ]
    },
    {
      "cell_type": "code",
      "source": [],
      "metadata": {
        "id": "jyeS-2qE6hBx"
      },
      "execution_count": null,
      "outputs": []
    }
  ]
}