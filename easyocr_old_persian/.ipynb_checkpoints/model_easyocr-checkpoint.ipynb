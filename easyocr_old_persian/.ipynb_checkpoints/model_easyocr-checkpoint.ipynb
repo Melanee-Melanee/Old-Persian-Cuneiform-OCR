{
 "cells": [
  {
   "cell_type": "markdown",
   "metadata": {
    "colab_type": "text",
    "id": "view-in-github"
   },
   "source": [
    "<a href=\"https://colab.research.google.com/github/Melanee-Melanee/Old-Persian-Cuneiform-OCR/blob/master/easyocr_old_persian/model_easyocr.ipynb\" target=\"_parent\"><img src=\"https://colab.research.google.com/assets/colab-badge.svg\" alt=\"Open In Colab\"/></a>"
   ]
  },
  {
   "cell_type": "markdown",
   "metadata": {
    "id": "Du0u1cT1TGzI"
   },
   "source": [
    "This notebook is a part of \"Electronic Old Persian Library\" (EOPL) project:\n",
    "\n",
    "https://github.com/Melanee-Melanee/Old-Persian-Cuneiform-OCR"
   ]
  },
  {
   "cell_type": "markdown",
   "metadata": {
    "id": "XJxvd-01w_9O"
   },
   "source": [
    "# LICENSE\n",
    "All code of this notebook is under [CC-BY-NC](https://github.com/Melanee-Melanee/Old-Persian-Cuneiform-OCR/blob/master/LICENSE-CC-BY-NC) license and any commercial use is prohibited"
   ]
  },
  {
   "cell_type": "markdown",
   "metadata": {
    "id": "wJ4yzyN03clm"
   },
   "source": [
    "# Installing required libraries"
   ]
  },
  {
   "cell_type": "code",
   "execution_count": null,
   "metadata": {
    "colab": {
     "base_uri": "https://localhost:8080/"
    },
    "id": "5R7BPNi6yDB3",
    "outputId": "704b0ca6-bbf8-4ab6-e699-773b6bc36401"
   },
   "outputs": [
    {
     "name": "stdout",
     "output_type": "stream",
     "text": [
      "fatal: destination path 'Old-Persian-Cuneiform-OCR' already exists and is not an empty directory.\n"
     ]
    }
   ],
   "source": [
    "!git clone https://github.com/Melanee-Melanee/Old-Persian-Cuneiform-OCR/"
   ]
  },
  {
   "cell_type": "code",
   "execution_count": null,
   "metadata": {
    "colab": {
     "base_uri": "https://localhost:8080/"
    },
    "id": "ylh6w8Zj3iid",
    "outputId": "71875ad9-0b3d-4732-f91a-a1320a9a7b1a"
   },
   "outputs": [
    {
     "name": "stdout",
     "output_type": "stream",
     "text": [
      "/content/Old-Persian-Cuneiform-OCR/easyocr_old_persian\n"
     ]
    }
   ],
   "source": [
    "%cd /content/Old-Persian-Cuneiform-OCR/easyocr_old_persian"
   ]
  },
  {
   "cell_type": "code",
   "execution_count": null,
   "metadata": {
    "colab": {
     "base_uri": "https://localhost:8080/"
    },
    "id": "JDpA_75s3lnJ",
    "outputId": "198fe4c8-719b-47ab-81f4-6f85c90a398d"
   },
   "outputs": [
    {
     "name": "stdout",
     "output_type": "stream",
     "text": [
      "Requirement already satisfied: torch==2.3.1+cu121 in /usr/local/lib/python3.10/dist-packages (from -r requirements.txt (line 1)) (2.3.1+cu121)\n",
      "Requirement already satisfied: torchvision==0.18.1+cu121 in /usr/local/lib/python3.10/dist-packages (from -r requirements.txt (line 2)) (0.18.1+cu121)\n",
      "Requirement already satisfied: opencv-python-headless==4.10.0.84 in /usr/local/lib/python3.10/dist-packages (from -r requirements.txt (line 3)) (4.10.0.84)\n",
      "Requirement already satisfied: scipy==1.11.4 in /usr/local/lib/python3.10/dist-packages (from -r requirements.txt (line 4)) (1.11.4)\n",
      "Requirement already satisfied: numpy==1.25.2 in /usr/local/lib/python3.10/dist-packages (from -r requirements.txt (line 5)) (1.25.2)\n",
      "Requirement already satisfied: Pillow==9.4.0 in /usr/local/lib/python3.10/dist-packages (from -r requirements.txt (line 6)) (9.4.0)\n",
      "Requirement already satisfied: scikit-image==0.19.3 in /usr/local/lib/python3.10/dist-packages (from -r requirements.txt (line 7)) (0.19.3)\n",
      "Requirement already satisfied: python-bidi==0.4.2 in /usr/local/lib/python3.10/dist-packages (from -r requirements.txt (line 8)) (0.4.2)\n",
      "Requirement already satisfied: PyYAML==6.0.1 in /usr/local/lib/python3.10/dist-packages (from -r requirements.txt (line 9)) (6.0.1)\n",
      "Requirement already satisfied: Shapely==2.0.5 in /usr/local/lib/python3.10/dist-packages (from -r requirements.txt (line 10)) (2.0.5)\n",
      "Requirement already satisfied: pyclipper==1.3.0.post5 in /usr/local/lib/python3.10/dist-packages (from -r requirements.txt (line 11)) (1.3.0.post5)\n",
      "Requirement already satisfied: ninja==1.11.1.1 in /usr/local/lib/python3.10/dist-packages (from -r requirements.txt (line 12)) (1.11.1.1)\n",
      "Requirement already satisfied: easyocr==1.7.1 in /usr/local/lib/python3.10/dist-packages (from -r requirements.txt (line 13)) (1.7.1)\n",
      "Requirement already satisfied: filelock in /usr/local/lib/python3.10/dist-packages (from torch==2.3.1+cu121->-r requirements.txt (line 1)) (3.15.4)\n",
      "Requirement already satisfied: typing-extensions>=4.8.0 in /usr/local/lib/python3.10/dist-packages (from torch==2.3.1+cu121->-r requirements.txt (line 1)) (4.12.2)\n",
      "Requirement already satisfied: sympy in /usr/local/lib/python3.10/dist-packages (from torch==2.3.1+cu121->-r requirements.txt (line 1)) (1.13.1)\n",
      "Requirement already satisfied: networkx in /usr/local/lib/python3.10/dist-packages (from torch==2.3.1+cu121->-r requirements.txt (line 1)) (3.3)\n",
      "Requirement already satisfied: jinja2 in /usr/local/lib/python3.10/dist-packages (from torch==2.3.1+cu121->-r requirements.txt (line 1)) (3.1.4)\n",
      "Requirement already satisfied: fsspec in /usr/local/lib/python3.10/dist-packages (from torch==2.3.1+cu121->-r requirements.txt (line 1)) (2024.6.1)\n",
      "Requirement already satisfied: nvidia-cuda-nvrtc-cu12==12.1.105 in /usr/local/lib/python3.10/dist-packages (from torch==2.3.1+cu121->-r requirements.txt (line 1)) (12.1.105)\n",
      "Requirement already satisfied: nvidia-cuda-runtime-cu12==12.1.105 in /usr/local/lib/python3.10/dist-packages (from torch==2.3.1+cu121->-r requirements.txt (line 1)) (12.1.105)\n",
      "Requirement already satisfied: nvidia-cuda-cupti-cu12==12.1.105 in /usr/local/lib/python3.10/dist-packages (from torch==2.3.1+cu121->-r requirements.txt (line 1)) (12.1.105)\n",
      "Requirement already satisfied: nvidia-cudnn-cu12==8.9.2.26 in /usr/local/lib/python3.10/dist-packages (from torch==2.3.1+cu121->-r requirements.txt (line 1)) (8.9.2.26)\n",
      "Requirement already satisfied: nvidia-cublas-cu12==12.1.3.1 in /usr/local/lib/python3.10/dist-packages (from torch==2.3.1+cu121->-r requirements.txt (line 1)) (12.1.3.1)\n",
      "Requirement already satisfied: nvidia-cufft-cu12==11.0.2.54 in /usr/local/lib/python3.10/dist-packages (from torch==2.3.1+cu121->-r requirements.txt (line 1)) (11.0.2.54)\n",
      "Requirement already satisfied: nvidia-curand-cu12==10.3.2.106 in /usr/local/lib/python3.10/dist-packages (from torch==2.3.1+cu121->-r requirements.txt (line 1)) (10.3.2.106)\n",
      "Requirement already satisfied: nvidia-cusolver-cu12==11.4.5.107 in /usr/local/lib/python3.10/dist-packages (from torch==2.3.1+cu121->-r requirements.txt (line 1)) (11.4.5.107)\n",
      "Requirement already satisfied: nvidia-cusparse-cu12==12.1.0.106 in /usr/local/lib/python3.10/dist-packages (from torch==2.3.1+cu121->-r requirements.txt (line 1)) (12.1.0.106)\n",
      "Requirement already satisfied: nvidia-nccl-cu12==2.20.5 in /usr/local/lib/python3.10/dist-packages (from torch==2.3.1+cu121->-r requirements.txt (line 1)) (2.20.5)\n",
      "Requirement already satisfied: nvidia-nvtx-cu12==12.1.105 in /usr/local/lib/python3.10/dist-packages (from torch==2.3.1+cu121->-r requirements.txt (line 1)) (12.1.105)\n",
      "Requirement already satisfied: triton==2.3.1 in /usr/local/lib/python3.10/dist-packages (from torch==2.3.1+cu121->-r requirements.txt (line 1)) (2.3.1)\n",
      "Requirement already satisfied: imageio>=2.4.1 in /usr/local/lib/python3.10/dist-packages (from scikit-image==0.19.3->-r requirements.txt (line 7)) (2.34.2)\n",
      "Requirement already satisfied: tifffile>=2019.7.26 in /usr/local/lib/python3.10/dist-packages (from scikit-image==0.19.3->-r requirements.txt (line 7)) (2024.7.24)\n",
      "Requirement already satisfied: PyWavelets>=1.1.1 in /usr/local/lib/python3.10/dist-packages (from scikit-image==0.19.3->-r requirements.txt (line 7)) (1.7.0)\n",
      "Requirement already satisfied: packaging>=20.0 in /usr/local/lib/python3.10/dist-packages (from scikit-image==0.19.3->-r requirements.txt (line 7)) (24.1)\n",
      "Requirement already satisfied: six in /usr/local/lib/python3.10/dist-packages (from python-bidi==0.4.2->-r requirements.txt (line 8)) (1.16.0)\n",
      "Requirement already satisfied: nvidia-nvjitlink-cu12 in /usr/local/lib/python3.10/dist-packages (from nvidia-cusolver-cu12==11.4.5.107->torch==2.3.1+cu121->-r requirements.txt (line 1)) (12.6.20)\n",
      "Requirement already satisfied: MarkupSafe>=2.0 in /usr/local/lib/python3.10/dist-packages (from jinja2->torch==2.3.1+cu121->-r requirements.txt (line 1)) (2.1.5)\n",
      "Requirement already satisfied: mpmath<1.4,>=1.1.0 in /usr/local/lib/python3.10/dist-packages (from sympy->torch==2.3.1+cu121->-r requirements.txt (line 1)) (1.3.0)\n"
     ]
    }
   ],
   "source": [
    "!pip install -r requirements.txt"
   ]
  },
  {
   "cell_type": "code",
   "execution_count": null,
   "metadata": {
    "colab": {
     "base_uri": "https://localhost:8080/"
    },
    "id": "iWcJVUc1yKgT",
    "outputId": "1a882d05-cad4-4d9c-cfb9-4b27aec0446f"
   },
   "outputs": [
    {
     "name": "stdout",
     "output_type": "stream",
     "text": [
      "Package                          Version\n",
      "-------------------------------- ---------------------\n",
      "absl-py                          1.4.0\n",
      "accelerate                       0.32.1\n",
      "aiohttp                          3.9.5\n",
      "aiosignal                        1.3.1\n",
      "alabaster                        0.7.16\n",
      "albumentations                   1.3.1\n",
      "altair                           4.2.2\n",
      "annotated-types                  0.7.0\n",
      "anyio                            3.7.1\n",
      "argon2-cffi                      23.1.0\n",
      "argon2-cffi-bindings             21.2.0\n",
      "array_record                     0.5.1\n",
      "arviz                            0.15.1\n",
      "astropy                          5.3.4\n",
      "astunparse                       1.6.3\n",
      "async-timeout                    4.0.3\n",
      "atpublic                         4.1.0\n",
      "attrs                            23.2.0\n",
      "audioread                        3.0.1\n",
      "autograd                         1.6.2\n",
      "Babel                            2.15.0\n",
      "backcall                         0.2.0\n",
      "beautifulsoup4                   4.12.3\n",
      "bidict                           0.23.1\n",
      "bigframes                        1.11.1\n",
      "bleach                           6.1.0\n",
      "blinker                          1.4\n",
      "blis                             0.7.11\n",
      "blosc2                           2.0.0\n",
      "bokeh                            3.3.4\n",
      "bqplot                           0.12.43\n",
      "branca                           0.7.2\n",
      "build                            1.2.1\n",
      "CacheControl                     0.14.0\n",
      "cachetools                       5.4.0\n",
      "catalogue                        2.0.10\n",
      "certifi                          2024.7.4\n",
      "cffi                             1.16.0\n",
      "chardet                          5.2.0\n",
      "charset-normalizer               3.3.2\n",
      "chex                             0.1.86\n",
      "click                            8.1.7\n",
      "click-plugins                    1.1.1\n",
      "cligj                            0.7.2\n",
      "cloudpathlib                     0.18.1\n",
      "cloudpickle                      2.2.1\n",
      "cmake                            3.27.9\n",
      "cmdstanpy                        1.2.4\n",
      "colorcet                         3.1.0\n",
      "colorlover                       0.3.0\n",
      "colour                           0.1.5\n",
      "community                        1.0.0b1\n",
      "confection                       0.1.5\n",
      "cons                             0.4.6\n",
      "contextlib2                      21.6.0\n",
      "contourpy                        1.2.1\n",
      "cryptography                     42.0.8\n",
      "cuda-python                      12.2.1\n",
      "cudf-cu12                        24.4.1\n",
      "cufflinks                        0.17.3\n",
      "cupy-cuda12x                     12.2.0\n",
      "cvxopt                           1.3.2\n",
      "cvxpy                            1.3.4\n",
      "cycler                           0.12.1\n",
      "cymem                            2.0.8\n",
      "Cython                           3.0.10\n",
      "dask                             2023.8.1\n",
      "datascience                      0.17.6\n",
      "db-dtypes                        1.2.0\n",
      "dbus-python                      1.2.18\n",
      "debugpy                          1.6.6\n",
      "decorator                        4.4.2\n",
      "defusedxml                       0.7.1\n",
      "distributed                      2023.8.1\n",
      "distro                           1.7.0\n",
      "dlib                             19.24.4\n",
      "dm-tree                          0.1.8\n",
      "docstring_parser                 0.16\n",
      "docutils                         0.18.1\n",
      "dopamine_rl                      4.0.9\n",
      "duckdb                           0.10.3\n",
      "earthengine-api                  0.1.411\n",
      "easydict                         1.13\n",
      "easyocr                          1.7.1\n",
      "ecos                             2.0.14\n",
      "editdistance                     0.6.2\n",
      "eerepr                           0.0.4\n",
      "en-core-web-sm                   3.7.1\n",
      "entrypoints                      0.4\n",
      "et-xmlfile                       1.1.0\n",
      "etils                            1.7.0\n",
      "etuples                          0.3.9\n",
      "exceptiongroup                   1.2.2\n",
      "fastai                           2.7.15\n",
      "fastcore                         1.5.54\n",
      "fastdownload                     0.0.7\n",
      "fastjsonschema                   2.20.0\n",
      "fastprogress                     1.0.3\n",
      "fastrlock                        0.8.2\n",
      "filelock                         3.15.4\n",
      "fiona                            1.9.6\n",
      "firebase-admin                   5.3.0\n",
      "Flask                            2.2.5\n",
      "flatbuffers                      24.3.25\n",
      "flax                             0.8.4\n",
      "folium                           0.14.0\n",
      "fonttools                        4.53.1\n",
      "frozendict                       2.4.4\n",
      "frozenlist                       1.4.1\n",
      "fsspec                           2023.6.0\n",
      "future                           0.18.3\n",
      "gast                             0.6.0\n",
      "gcsfs                            2023.6.0\n",
      "GDAL                             3.6.4\n",
      "gdown                            5.1.0\n",
      "geemap                           0.33.0\n",
      "gensim                           4.3.2\n",
      "geocoder                         1.38.1\n",
      "geographiclib                    2.0\n",
      "geopandas                        0.13.2\n",
      "geopy                            2.3.0\n",
      "gin-config                       0.5.0\n",
      "glob2                            0.7\n",
      "google                           2.0.3\n",
      "google-ai-generativelanguage     0.6.4\n",
      "google-api-core                  2.16.2\n",
      "google-api-python-client         2.84.0\n",
      "google-auth                      2.27.0\n",
      "google-auth-httplib2             0.1.1\n",
      "google-auth-oauthlib             1.2.1\n",
      "google-cloud-aiplatform          1.59.0\n",
      "google-cloud-bigquery            3.21.0\n",
      "google-cloud-bigquery-connection 1.12.1\n",
      "google-cloud-bigquery-storage    2.25.0\n",
      "google-cloud-bigtable            2.24.0\n",
      "google-cloud-core                2.3.3\n",
      "google-cloud-datastore           2.15.2\n",
      "google-cloud-firestore           2.11.1\n",
      "google-cloud-functions           1.13.3\n",
      "google-cloud-iam                 2.15.1\n",
      "google-cloud-language            2.13.4\n",
      "google-cloud-pubsub              2.22.0\n",
      "google-cloud-resource-manager    1.12.4\n",
      "google-cloud-storage             2.8.0\n",
      "google-cloud-translate           3.11.3\n",
      "google-colab                     1.0.0\n",
      "google-crc32c                    1.5.0\n",
      "google-generativeai              0.5.4\n",
      "google-pasta                     0.2.0\n",
      "google-resumable-media           2.7.1\n",
      "googleapis-common-protos         1.63.2\n",
      "googledrivedownloader            0.4\n",
      "graphviz                         0.20.3\n",
      "greenlet                         3.0.3\n",
      "grpc-google-iam-v1               0.13.1\n",
      "grpcio                           1.64.1\n",
      "grpcio-status                    1.48.2\n",
      "gspread                          6.0.2\n",
      "gspread-dataframe                3.3.1\n",
      "gym                              0.25.2\n",
      "gym-notices                      0.0.8\n",
      "h5netcdf                         1.3.0\n",
      "h5py                             3.9.0\n",
      "holidays                         0.53\n",
      "holoviews                        1.17.1\n",
      "html5lib                         1.1\n",
      "httpimport                       1.3.1\n",
      "httplib2                         0.22.0\n",
      "huggingface-hub                  0.23.5\n",
      "humanize                         4.7.0\n",
      "hyperopt                         0.2.7\n",
      "ibis-framework                   8.0.0\n",
      "idna                             3.7\n",
      "imageio                          2.31.6\n",
      "imageio-ffmpeg                   0.5.1\n",
      "imagesize                        1.4.1\n",
      "imbalanced-learn                 0.10.1\n",
      "imgaug                           0.4.0\n",
      "immutabledict                    4.2.0\n",
      "importlib_metadata               8.0.0\n",
      "importlib_resources              6.4.0\n",
      "imutils                          0.5.4\n",
      "inflect                          7.0.0\n",
      "iniconfig                        2.0.0\n",
      "intel-openmp                     2023.2.4\n",
      "ipyevents                        2.0.2\n",
      "ipyfilechooser                   0.6.0\n",
      "ipykernel                        5.5.6\n",
      "ipyleaflet                       0.18.2\n",
      "ipyparallel                      8.8.0\n",
      "ipython                          7.34.0\n",
      "ipython-genutils                 0.2.0\n",
      "ipython-sql                      0.5.0\n",
      "ipytree                          0.2.2\n",
      "ipywidgets                       7.7.1\n",
      "itsdangerous                     2.2.0\n",
      "jax                              0.4.26\n",
      "jaxlib                           0.4.26+cuda12.cudnn89\n",
      "jeepney                          0.7.1\n",
      "jellyfish                        1.0.4\n",
      "jieba                            0.42.1\n",
      "Jinja2                           3.1.4\n",
      "joblib                           1.4.2\n",
      "jsonpickle                       3.2.2\n",
      "jsonschema                       4.19.2\n",
      "jsonschema-specifications        2023.12.1\n",
      "jupyter-client                   6.1.12\n",
      "jupyter-console                  6.1.0\n",
      "jupyter_core                     5.7.2\n",
      "jupyter-server                   1.24.0\n",
      "jupyterlab_pygments              0.3.0\n",
      "jupyterlab_widgets               3.0.11\n",
      "kaggle                           1.6.14\n",
      "kagglehub                        0.2.7\n",
      "keras                            2.15.0\n",
      "keyring                          23.5.0\n",
      "kiwisolver                       1.4.5\n",
      "langcodes                        3.4.0\n",
      "language_data                    1.2.0\n",
      "launchpadlib                     1.10.16\n",
      "lazr.restfulclient               0.14.4\n",
      "lazr.uri                         1.0.6\n",
      "lazy_loader                      0.4\n",
      "libclang                         18.1.1\n",
      "librosa                          0.10.2.post1\n",
      "lightgbm                         4.1.0\n",
      "linkify-it-py                    2.0.3\n",
      "llvmlite                         0.41.1\n",
      "locket                           1.0.0\n",
      "logical-unification              0.4.6\n",
      "lxml                             4.9.4\n",
      "malloy                           2023.1067\n",
      "marisa-trie                      1.2.0\n",
      "Markdown                         3.6\n",
      "markdown-it-py                   3.0.0\n",
      "MarkupSafe                       2.1.5\n",
      "matplotlib                       3.7.1\n",
      "matplotlib-inline                0.1.7\n",
      "matplotlib-venn                  0.11.10\n",
      "mdit-py-plugins                  0.4.1\n",
      "mdurl                            0.1.2\n",
      "miniKanren                       1.0.3\n",
      "missingno                        0.5.2\n",
      "mistune                          0.8.4\n",
      "mizani                           0.9.3\n",
      "mkl                              2023.2.0\n",
      "ml-dtypes                        0.2.0\n",
      "mlxtend                          0.22.0\n",
      "more-itertools                   10.1.0\n",
      "moviepy                          1.0.3\n",
      "mpmath                           1.3.0\n",
      "msgpack                          1.0.8\n",
      "multidict                        6.0.5\n",
      "multipledispatch                 1.0.0\n",
      "multitasking                     0.0.11\n",
      "murmurhash                       1.0.10\n",
      "music21                          9.1.0\n",
      "natsort                          8.4.0\n",
      "nbclassic                        1.1.0\n",
      "nbclient                         0.10.0\n",
      "nbconvert                        6.5.4\n",
      "nbformat                         5.10.4\n",
      "nest-asyncio                     1.6.0\n",
      "networkx                         3.3\n",
      "nibabel                          4.0.2\n",
      "ninja                            1.11.1.1\n",
      "nltk                             3.8.1\n",
      "notebook                         6.5.5\n",
      "notebook_shim                    0.2.4\n",
      "numba                            0.58.1\n",
      "numexpr                          2.10.1\n",
      "numpy                            1.25.2\n",
      "nvidia-cublas-cu12               12.1.3.1\n",
      "nvidia-cuda-cupti-cu12           12.1.105\n",
      "nvidia-cuda-nvrtc-cu12           12.1.105\n",
      "nvidia-cuda-runtime-cu12         12.1.105\n",
      "nvidia-cudnn-cu12                8.9.2.26\n",
      "nvidia-cufft-cu12                11.0.2.54\n",
      "nvidia-curand-cu12               10.3.2.106\n",
      "nvidia-cusolver-cu12             11.4.5.107\n",
      "nvidia-cusparse-cu12             12.1.0.106\n",
      "nvidia-nccl-cu12                 2.20.5\n",
      "nvidia-nvjitlink-cu12            12.5.82\n",
      "nvidia-nvtx-cu12                 12.1.105\n",
      "nvtx                             0.2.10\n",
      "oauth2client                     4.1.3\n",
      "oauthlib                         3.2.2\n",
      "opencv-contrib-python            4.8.0.76\n",
      "opencv-python                    4.8.0.76\n",
      "opencv-python-headless           4.10.0.84\n",
      "openpyxl                         3.1.5\n",
      "opt-einsum                       3.3.0\n",
      "optax                            0.2.2\n",
      "orbax-checkpoint                 0.4.4\n",
      "osqp                             0.6.2.post8\n",
      "packaging                        24.1\n",
      "pandas                           2.0.3\n",
      "pandas-datareader                0.10.0\n",
      "pandas-gbq                       0.19.2\n",
      "pandas-stubs                     2.0.3.230814\n",
      "pandocfilters                    1.5.1\n",
      "panel                            1.3.8\n",
      "param                            2.1.1\n",
      "parso                            0.8.4\n",
      "parsy                            2.1\n",
      "partd                            1.4.2\n",
      "pathlib                          1.0.1\n",
      "patsy                            0.5.6\n",
      "peewee                           3.17.6\n",
      "pexpect                          4.9.0\n",
      "pickleshare                      0.7.5\n",
      "Pillow                           9.4.0\n",
      "pip                              23.1.2\n",
      "pip-tools                        6.13.0\n",
      "platformdirs                     4.2.2\n",
      "plotly                           5.15.0\n",
      "plotnine                         0.12.4\n",
      "pluggy                           1.5.0\n",
      "polars                           0.20.2\n",
      "pooch                            1.8.2\n",
      "portpicker                       1.5.2\n",
      "prefetch-generator               1.0.3\n",
      "preshed                          3.0.9\n",
      "prettytable                      3.10.2\n",
      "proglog                          0.1.10\n",
      "progressbar2                     4.2.0\n",
      "prometheus_client                0.20.0\n",
      "promise                          2.3\n",
      "prompt_toolkit                   3.0.47\n",
      "prophet                          1.1.5\n",
      "proto-plus                       1.24.0\n",
      "protobuf                         3.20.3\n",
      "psutil                           5.9.5\n",
      "psycopg2                         2.9.9\n",
      "ptyprocess                       0.7.0\n",
      "py-cpuinfo                       9.0.0\n",
      "py4j                             0.10.9.7\n",
      "pyarrow                          14.0.2\n",
      "pyarrow-hotfix                   0.6\n",
      "pyasn1                           0.6.0\n",
      "pyasn1_modules                   0.4.0\n",
      "pyclipper                        1.3.0.post5\n",
      "pycocotools                      2.0.8\n",
      "pycparser                        2.22\n",
      "pydantic                         2.8.2\n",
      "pydantic_core                    2.20.1\n",
      "pydata-google-auth               1.8.2\n",
      "pydot                            1.4.2\n",
      "pydot-ng                         2.0.0\n",
      "pydotplus                        2.0.2\n",
      "PyDrive                          1.3.1\n",
      "PyDrive2                         1.6.3\n",
      "pyerfa                           2.0.1.4\n",
      "pygame                           2.6.0\n",
      "Pygments                         2.16.1\n",
      "PyGObject                        3.42.1\n",
      "PyJWT                            2.3.0\n",
      "pymc                             5.10.4\n",
      "pymystem3                        0.2.0\n",
      "pynvjitlink-cu12                 0.3.0\n",
      "PyOpenGL                         3.1.7\n",
      "pyOpenSSL                        24.1.0\n",
      "pyparsing                        3.1.2\n",
      "pyperclip                        1.9.0\n",
      "pyproj                           3.6.1\n",
      "pyproject_hooks                  1.1.0\n",
      "pyshp                            2.3.1\n",
      "PySocks                          1.7.1\n",
      "pytensor                         2.18.6\n",
      "pytest                           7.4.4\n",
      "python-apt                       2.4.0\n",
      "python-bidi                      0.4.2\n",
      "python-box                       7.2.0\n",
      "python-dateutil                  2.8.2\n",
      "python-louvain                   0.16\n",
      "python-slugify                   8.0.4\n",
      "python-utils                     3.8.2\n",
      "pytz                             2023.4\n",
      "pyviz_comms                      3.0.2\n",
      "PyWavelets                       1.6.0\n",
      "PyYAML                           6.0.1\n",
      "pyzmq                            24.0.1\n",
      "qdldl                            0.1.7.post4\n",
      "qudida                           0.0.4\n",
      "ratelim                          0.1.6\n",
      "referencing                      0.35.1\n",
      "regex                            2024.5.15\n",
      "requests                         2.31.0\n",
      "requests-oauthlib                1.3.1\n",
      "requirements-parser              0.9.0\n",
      "rich                             13.7.1\n",
      "rmm-cu12                         24.4.0\n",
      "rpds-py                          0.19.0\n",
      "rpy2                             3.4.2\n",
      "rsa                              4.9\n",
      "safetensors                      0.4.3\n",
      "scikit-image                     0.19.3\n",
      "scikit-learn                     1.2.2\n",
      "scipy                            1.11.4\n",
      "scooby                           0.10.0\n",
      "scs                              3.2.6\n",
      "seaborn                          0.13.1\n",
      "SecretStorage                    3.3.1\n",
      "Send2Trash                       1.8.3\n",
      "sentencepiece                    0.1.99\n",
      "setuptools                       67.7.2\n",
      "shapely                          2.0.5\n",
      "shellingham                      1.5.4\n",
      "simple_parsing                   0.1.5\n",
      "six                              1.16.0\n",
      "sklearn-pandas                   2.2.0\n",
      "smart-open                       7.0.4\n",
      "sniffio                          1.3.1\n",
      "snowballstemmer                  2.2.0\n",
      "sortedcontainers                 2.4.0\n",
      "soundfile                        0.12.1\n",
      "soupsieve                        2.5\n",
      "soxr                             0.3.7\n",
      "spacy                            3.7.5\n",
      "spacy-legacy                     3.0.12\n",
      "spacy-loggers                    1.0.5\n",
      "Sphinx                           5.0.2\n",
      "sphinxcontrib-applehelp          1.0.8\n",
      "sphinxcontrib-devhelp            1.0.6\n",
      "sphinxcontrib-htmlhelp           2.0.5\n",
      "sphinxcontrib-jsmath             1.0.1\n",
      "sphinxcontrib-qthelp             1.0.7\n",
      "sphinxcontrib-serializinghtml    1.1.10\n",
      "SQLAlchemy                       2.0.31\n",
      "sqlglot                          20.11.0\n",
      "sqlparse                         0.5.1\n",
      "srsly                            2.4.8\n",
      "stanio                           0.5.1\n",
      "statsmodels                      0.14.2\n",
      "StrEnum                          0.4.15\n",
      "sympy                            1.13.0\n",
      "tables                           3.8.0\n",
      "tabulate                         0.9.0\n",
      "tbb                              2021.13.0\n",
      "tblib                            3.0.0\n",
      "tenacity                         8.5.0\n",
      "tensorboard                      2.15.2\n",
      "tensorboard-data-server          0.7.2\n",
      "tensorflow                       2.15.0\n",
      "tensorflow-datasets              4.9.6\n",
      "tensorflow-estimator             2.15.0\n",
      "tensorflow-gcs-config            2.15.0\n",
      "tensorflow-hub                   0.16.1\n",
      "tensorflow-io-gcs-filesystem     0.37.1\n",
      "tensorflow-metadata              1.15.0\n",
      "tensorflow-probability           0.23.0\n",
      "tensorstore                      0.1.45\n",
      "termcolor                        2.4.0\n",
      "terminado                        0.18.1\n",
      "text-unidecode                   1.3\n",
      "textblob                         0.17.1\n",
      "tf_keras                         2.15.1\n",
      "tf-slim                          1.1.0\n",
      "thinc                            8.2.5\n",
      "threadpoolctl                    3.5.0\n",
      "tifffile                         2024.7.2\n",
      "tinycss2                         1.3.0\n",
      "tokenizers                       0.19.1\n",
      "toml                             0.10.2\n",
      "tomli                            2.0.1\n",
      "toolz                            0.12.1\n",
      "torch                            2.3.1+cu121\n",
      "torchaudio                       2.3.1+cu121\n",
      "torchsummary                     1.5.1\n",
      "torchtext                        0.18.0\n",
      "torchvision                      0.18.1+cu121\n",
      "tornado                          6.3.3\n",
      "tqdm                             4.66.4\n",
      "traitlets                        5.7.1\n",
      "traittypes                       0.2.1\n",
      "transformers                     4.42.4\n",
      "triton                           2.3.1\n",
      "tweepy                           4.14.0\n",
      "typer                            0.12.3\n",
      "types-pytz                       2024.1.0.20240417\n",
      "types-setuptools                 70.3.0.20240710\n",
      "typing_extensions                4.12.2\n",
      "tzdata                           2024.1\n",
      "tzlocal                          5.2\n",
      "uc-micro-py                      1.0.3\n",
      "uritemplate                      4.1.1\n",
      "urllib3                          2.0.7\n",
      "vega-datasets                    0.9.0\n",
      "wadllib                          1.3.6\n",
      "wasabi                           1.1.3\n",
      "wcwidth                          0.2.13\n",
      "weasel                           0.4.1\n",
      "webcolors                        24.6.0\n",
      "webencodings                     0.5.1\n",
      "websocket-client                 1.8.0\n",
      "Werkzeug                         3.0.3\n",
      "wheel                            0.43.0\n",
      "widgetsnbextension               3.6.7\n",
      "wordcloud                        1.9.3\n",
      "wrapt                            1.14.1\n",
      "xarray                           2023.7.0\n",
      "xarray-einstats                  0.7.0\n",
      "xgboost                          2.0.3\n",
      "xlrd                             2.0.1\n",
      "xyzservices                      2024.6.0\n",
      "yarl                             1.9.4\n",
      "yellowbrick                      1.5\n",
      "yfinance                         0.2.40\n",
      "zict                             3.0.0\n",
      "zipp                             3.19.2\n"
     ]
    }
   ],
   "source": [
    "!pip list"
   ]
  },
  {
   "cell_type": "markdown",
   "metadata": {
    "id": "7bdobPAvxlBa"
   },
   "source": [
    "# Creating root directory"
   ]
  },
  {
   "cell_type": "markdown",
   "metadata": {
    "id": "oQJTLwCCxKG-"
   },
   "source": [
    "To use saved model please create the root of your machine like below structure and replace ```custum_example.pth```, ```custom_example.py``` and ```custom_example.yaml``` files there:\n",
    "\n",
    "/root/\n",
    "\n",
    "     /EasyOCR/\n",
    "           /model/\n",
    "               custum_example.pth\n",
    "           /user_network/\n",
    "               custom_example.py\n",
    "               custom_example.yaml"
   ]
  },
  {
   "cell_type": "code",
   "execution_count": null,
   "metadata": {
    "colab": {
     "base_uri": "https://localhost:8080/"
    },
    "id": "lDwDpI4y0Q2x",
    "outputId": "6a50596a-f976-4ea8-cbf4-da90346dc93e"
   },
   "outputs": [
    {
     "name": "stdout",
     "output_type": "stream",
     "text": [
      "/content/Old-Persian-Cuneiform-OCR/easyocr_old_persian\n"
     ]
    }
   ],
   "source": [
    "!pwd"
   ]
  },
  {
   "cell_type": "code",
   "execution_count": null,
   "metadata": {
    "colab": {
     "base_uri": "https://localhost:8080/"
    },
    "id": "aqivP0LC0TNP",
    "outputId": "171aaaee-1c13-4372-84a0-e9ccd9b77b2b"
   },
   "outputs": [
    {
     "name": "stdout",
     "output_type": "stream",
     "text": [
      "/root\n"
     ]
    }
   ],
   "source": [
    "%cd /root"
   ]
  },
  {
   "cell_type": "code",
   "execution_count": null,
   "metadata": {
    "id": "JAUEe9FXypD9"
   },
   "outputs": [],
   "source": [
    "!mkdir /root/EasyOCR/"
   ]
  },
  {
   "cell_type": "code",
   "execution_count": null,
   "metadata": {
    "id": "LPAnrfhE0euf"
   },
   "outputs": [],
   "source": [
    "!mkdir /root/EasyOCR/user_network/"
   ]
  },
  {
   "cell_type": "code",
   "execution_count": null,
   "metadata": {
    "id": "fYCYMcgINigx"
   },
   "outputs": [],
   "source": [
    "!cp /content/Old-Persian-Cuneiform-OCR/easyocr_old_persian/custom_example/custom_example.yaml /root/EasyOCR//user_network/"
   ]
  },
  {
   "cell_type": "code",
   "execution_count": null,
   "metadata": {
    "id": "vZq6aMuE1cRN"
   },
   "outputs": [],
   "source": [
    "!cp /content/Old-Persian-Cuneiform-OCR/easyocr_old_persian/custom_example/custom_example.py /root/EasyOCR/user_network"
   ]
  },
  {
   "cell_type": "code",
   "execution_count": null,
   "metadata": {
    "id": "9ie4IeU-12cc"
   },
   "outputs": [],
   "source": [
    "!mkdir /root/EasyOCR/model"
   ]
  },
  {
   "cell_type": "code",
   "execution_count": null,
   "metadata": {
    "id": "Aw_QXeBG2Dfu"
   },
   "outputs": [],
   "source": [
    "!cp /content/Old-Persian-Cuneiform-OCR/easyocr_old_persian/custom_example/custom_example.pth /root/EasyOCR/model/"
   ]
  },
  {
   "cell_type": "code",
   "execution_count": null,
   "metadata": {
    "id": "hiS4-k2ROWP7"
   },
   "outputs": [],
   "source": [
    "!cp /content/Old-Persian-Cuneiform-OCR/easyocr_old_persian/custom_example/op_char.txt /usr/local/lib/python3.10/dist-packages/easyocr/character"
   ]
  },
  {
   "cell_type": "markdown",
   "metadata": {
    "id": "6ZEDtPeKx-eo"
   },
   "source": [
    "#Coping required files"
   ]
  },
  {
   "cell_type": "code",
   "execution_count": null,
   "metadata": {
    "id": "P_ePkL1b1NnT"
   },
   "outputs": [],
   "source": [
    "!cp /root/EasyOCR/user_network/custom_example.yaml /root/.EasyOCR/user_network/custom_example.yaml"
   ]
  },
  {
   "cell_type": "code",
   "execution_count": null,
   "metadata": {
    "id": "6tHcIp8-NpFH"
   },
   "outputs": [],
   "source": [
    "!cp /root/EasyOCR/user_network/custom_example.py /root/.EasyOCR/user_network/custom_example.py"
   ]
  },
  {
   "cell_type": "code",
   "execution_count": null,
   "metadata": {
    "id": "zzKT-nMyNq-w"
   },
   "outputs": [],
   "source": [
    "!cp /root/EasyOCR/model/custom_example.pth /root/.EasyOCR/model/custom_example.pth"
   ]
  },
  {
   "cell_type": "markdown",
   "metadata": {
    "id": "dSrhWpL9xVf7"
   },
   "source": [
    "# Using model"
   ]
  },
  {
   "cell_type": "code",
   "execution_count": null,
   "metadata": {
    "colab": {
     "base_uri": "https://localhost:8080/",
     "height": 63
    },
    "id": "DEPYV-Kt_fPO",
    "outputId": "13fa5183-0090-42bf-8b69-b5b5036688df"
   },
   "outputs": [
    {
     "data": {
      "image/png": "[encoded data removed]",
      "text/plain": [
       "<PIL.Image.Image image mode=RGB size=752x46>"
      ]
     },
     "metadata": {},
     "output_type": "display_data"
    }
   ],
   "source": [
    "import cv2\n",
    "import numpy as np\n",
    "from google.colab.patches import cv2_imshow\n",
    "image_path= '/content/Old-Persian-Cuneiform-OCR/other/custom images/line1.png'\n",
    "image = cv2.imread(image_path)\n",
    "cv2_imshow(image)"
   ]
  },
  {
   "cell_type": "code",
   "execution_count": null,
   "metadata": {
    "id": "9Tm0vox749ic"
   },
   "outputs": [],
   "source": [
    "import easyocr"
   ]
  },
  {
   "cell_type": "code",
   "execution_count": null,
   "metadata": {
    "colab": {
     "base_uri": "https://localhost:8080/"
    },
    "id": "ydow2CdtNtX-",
    "outputId": "13bfcaf6-f439-4480-d3ab-29d95ead4386"
   },
   "outputs": [
    {
     "name": "stderr",
     "output_type": "stream",
     "text": [
      "WARNING:easyocr.easyocr:Neither CUDA nor MPS are available - defaulting to CPU. Note: This module is much faster with a GPU.\n"
     ]
    },
    {
     "name": "stdout",
     "output_type": "stream",
     "text": [
      "['dahamiy :', 'dahyavabs :', 'dayamiy :']\n"
     ]
    }
   ],
   "source": [
    "#single line\n",
    "reader = easyocr.Reader(['op'], recog_network='custom_example')\n",
    "result = reader.readtext('/content/Old-Persian-Cuneiform-OCR/other/custom images/line1.png', detail=0)\n",
    "print(result)"
   ]
  },
  {
   "cell_type": "code",
   "execution_count": null,
   "metadata": {
    "colab": {
     "base_uri": "https://localhost:8080/",
     "height": 350
    },
    "id": "mUXu9KV5A_Tj",
    "outputId": "00984402-689e-418d-8acb-5e178eaedd74"
   },
   "outputs": [
    {
     "data": {
      "image/png": "[encoded data removed]",
      "text/plain": [
       "<PIL.Image.Image image mode=RGB size=824x333>"
      ]
     },
     "metadata": {},
     "output_type": "display_data"
    }
   ],
   "source": [
    "import cv2\n",
    "import numpy as np\n",
    "from google.colab.patches import cv2_imshow\n",
    "image_path= '/content/Old-Persian-Cuneiform-OCR/other/custom images/DPd.png'\n",
    "image = cv2.imread(image_path)\n",
    "cv2_imshow(image)"
   ]
  },
  {
   "cell_type": "code",
   "execution_count": null,
   "metadata": {
    "colab": {
     "base_uri": "https://localhost:8080/"
    },
    "id": "MR1390cmNwFu",
    "outputId": "fdf1f419-1c28-4684-ff88-f67b8aae9be7"
   },
   "outputs": [
    {
     "name": "stdout",
     "output_type": "stream",
     "text": [
      "dahaiy : aitavabis : dayamiy : ma : a : daya : jayatuv : haya : Darayabis  pabis : daya : aitaum : da : daha : datuv : xsa : sa : haina : ha : hainya : da : aiy : aita : ba: dam : a : daya : dam : dahyam : ba: dam  dadyaiy : ditaiy : datyatuv :\n"
     ]
    }
   ],
   "source": [
    "#multiple line\n",
    "text = ''\n",
    "results = reader.readtext('/content/Old-Persian-Cuneiform-OCR/other/custom images/DPd.png')\n",
    "for result in results:\n",
    "  text = text + result[1] +  ' '\n",
    "\n",
    "text = text[:-1]\n",
    "print(text)"
   ]
  },
  {
   "cell_type": "markdown",
   "metadata": {
    "id": "ZcuIwjvaOnWA"
   },
   "source": [
    "## At the next step, you can translate that Old Persian transcription to modern Persian by [Chat-GPT](https://chatgpt.com/):"
   ]
  },
  {
   "cell_type": "markdown",
   "metadata": {
    "id": "HamuOYRGOhpz"
   },
   "source": [
    "![Screenshot](https://drive.google.com/uc?export=view&id=1ccWyQrwpG3Tg1euhtmpJruAcPRqNxDIY)"
   ]
  }
 ],
 "metadata": {
  "colab": {
   "authorship_tag": "ABX9TyOyRg8n6D00HVqpMIfPxRpP",
   "include_colab_link": true,
   "provenance": []
  },
  "comment": "This notebook is developed by Shaghayegh Rahmani for EOPL project.",
  "kernelspec": {
   "display_name": "Python 3 (ipykernel)",
   "language": "python",
   "name": "python3"
  },
  "language_info": {
   "codemirror_mode": {
    "name": "ipython",
    "version": 3
   },
   "file_extension": ".py",
   "mimetype": "text/x-python",
   "name": "python",
   "nbconvert_exporter": "python",
   "pygments_lexer": "ipython3",
   "version": "3.10.12"
  },
  "toc": {
   "base_numbering": 1,
   "nav_menu": {},
   "number_sections": true,
   "sideBar": true,
   "skip_h1_title": false,
   "title_cell": "Table of Contents",
   "title_sidebar": "Contents",
   "toc_cell": false,
   "toc_position": {},
   "toc_section_display": true,
   "toc_window_display": false
  },
  "varInspector": {
   "cols": {
    "lenName": 16,
    "lenType": 16,
    "lenVar": 40
   },
   "kernels_config": {
    "python": {
     "delete_cmd_postfix": "",
     "delete_cmd_prefix": "del ",
     "library": "var_list.py",
     "varRefreshCmd": "print(var_dic_list())"
    },
    "r": {
     "delete_cmd_postfix": ") ",
     "delete_cmd_prefix": "rm(",
     "library": "var_list.r",
     "varRefreshCmd": "cat(var_dic_list()) "
    }
   },
   "types_to_exclude": [
    "module",
    "function",
    "builtin_function_or_method",
    "instance",
    "_Feature"
   ],
   "window_display": false
  }
 },
 "nbformat": 4,
 "nbformat_minor": 1
}
