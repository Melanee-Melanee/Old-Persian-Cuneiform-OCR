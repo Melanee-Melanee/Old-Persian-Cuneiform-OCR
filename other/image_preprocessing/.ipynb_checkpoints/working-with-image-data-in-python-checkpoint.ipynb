{
 "cells": [
  {
   "cell_type": "code",
   "execution_count": null,
   "id": "5fecb740",
   "metadata": {
    "execution": {
     "iopub.execute_input": "2024-05-23T18:25:40.247774Z",
     "iopub.status.busy": "2024-05-23T18:25:40.246433Z",
     "iopub.status.idle": "2024-05-23T18:25:40.629458Z",
     "shell.execute_reply": "2024-05-23T18:25:40.628518Z",
     "shell.execute_reply.started": "2024-05-23T17:46:24.274307Z"
    },
    "papermill": {
     "duration": 0.421149,
     "end_time": "2024-05-23T18:25:40.629665",
     "exception": false,
     "start_time": "2024-05-23T18:25:40.208516",
     "status": "completed"
    },
    "tags": []
   },
   "outputs": [],
   "source": [
    "import pandas as pd\n",
    "import numpy as np\n",
    "\n",
    "from glob import glob\n",
    "\n",
    "import cv2\n",
    "import matplotlib.pylab as plt\n",
    "\n",
    "plt.style.use('ggplot')"
   ]
  },
  {
   "cell_type": "markdown",
   "id": "574901ba",
   "metadata": {
    "papermill": {
     "duration": 0.033568,
     "end_time": "2024-05-23T18:25:40.697052",
     "exception": false,
     "start_time": "2024-05-23T18:25:40.663484",
     "status": "completed"
    },
    "tags": []
   },
   "source": [
    "# Reading in Images"
   ]
  },
  {
   "cell_type": "code",
   "execution_count": null,
   "id": "9592666a",
   "metadata": {
    "execution": {
     "iopub.execute_input": "2024-05-23T18:25:40.770553Z",
     "iopub.status.busy": "2024-05-23T18:25:40.769773Z",
     "iopub.status.idle": "2024-05-23T18:25:41.331759Z",
     "shell.execute_reply": "2024-05-23T18:25:41.331139Z",
     "shell.execute_reply.started": "2024-05-23T17:56:41.417706Z"
    },
    "papermill": {
     "duration": 0.601052,
     "end_time": "2024-05-23T18:25:41.331925",
     "exception": false,
     "start_time": "2024-05-23T18:25:40.730873",
     "status": "completed"
    },
    "tags": []
   },
   "outputs": [],
   "source": [
    "tablet_files = glob('')\n",
    "inscript_files = glob('')"
   ]
  },
  {
   "cell_type": "code",
   "execution_count": null,
   "id": "9fad2780",
   "metadata": {
    "execution": {
     "iopub.execute_input": "2024-05-23T18:25:41.405033Z",
     "iopub.status.busy": "2024-05-23T18:25:41.404315Z",
     "iopub.status.idle": "2024-05-23T18:25:41.447858Z",
     "shell.execute_reply": "2024-05-23T18:25:41.448610Z",
     "shell.execute_reply.started": "2024-05-23T17:56:45.619739Z"
    },
    "papermill": {
     "duration": 0.083644,
     "end_time": "2024-05-23T18:25:41.449003",
     "exception": false,
     "start_time": "2024-05-23T18:25:41.365359",
     "status": "completed"
    },
    "tags": []
   },
   "outputs": [],
   "source": [
    "img_mpl = plt.imread(tablet_files[20])\n",
    "img_cv2 = cv2.imread(tablet_files[20])\n",
    "img_mpl.shape, img_cv2.shape"
   ]
  },
  {
   "cell_type": "code",
   "execution_count": null,
   "id": "b275dca8",
   "metadata": {
    "execution": {
     "iopub.execute_input": "2024-05-23T18:25:41.531656Z",
     "iopub.status.busy": "2024-05-23T18:25:41.530740Z",
     "iopub.status.idle": "2024-05-23T18:25:41.535055Z",
     "shell.execute_reply": "2024-05-23T18:25:41.535716Z",
     "shell.execute_reply.started": "2024-05-23T18:01:47.328187Z"
    },
    "papermill": {
     "duration": 0.047982,
     "end_time": "2024-05-23T18:25:41.535955",
     "exception": false,
     "start_time": "2024-05-23T18:25:41.487973",
     "status": "completed"
    },
    "tags": []
   },
   "outputs": [],
   "source": [
    "print(img_mpl)\n",
    "#this code show the detail pixels of img_mpl image, each row of matrices refers to Red(R), Green(G) and Blue(B) indexes  "
   ]
  },
  {
   "cell_type": "markdown",
   "id": "4b4db616",
   "metadata": {
    "execution": {
     "iopub.execute_input": "2022-03-19T14:49:36.708995Z",
     "iopub.status.busy": "2022-03-19T14:49:36.708443Z",
     "iopub.status.idle": "2022-03-19T14:49:36.71443Z",
     "shell.execute_reply": "2022-03-19T14:49:36.713526Z",
     "shell.execute_reply.started": "2022-03-19T14:49:36.708956Z"
    },
    "papermill": {
     "duration": 0.036148,
     "end_time": "2024-05-23T18:25:41.609699",
     "exception": false,
     "start_time": "2024-05-23T18:25:41.573551",
     "status": "completed"
    },
    "tags": []
   },
   "source": [
    "## Image Array\n",
    "(Height, Width, Channels)\n",
    "\n"
   ]
  },
  {
   "cell_type": "code",
   "execution_count": null,
   "id": "0bc57905",
   "metadata": {
    "execution": {
     "iopub.execute_input": "2024-05-23T18:25:41.690705Z",
     "iopub.status.busy": "2024-05-23T18:25:41.689795Z",
     "iopub.status.idle": "2024-05-23T18:25:42.203547Z",
     "shell.execute_reply": "2024-05-23T18:25:42.202790Z",
     "shell.execute_reply.started": "2024-05-23T18:00:45.425316Z"
    },
    "papermill": {
     "duration": 0.558458,
     "end_time": "2024-05-23T18:25:42.203719",
     "exception": false,
     "start_time": "2024-05-23T18:25:41.645261",
     "status": "completed"
    },
    "tags": []
   },
   "outputs": [],
   "source": [
    "pd.Series(img_mpl.flatten()).plot(kind='hist',\n",
    "                                  bins=50,\n",
    "                                  title='Distribution of Pixel Values')\n",
    "plt.show()"
   ]
  },
  {
   "cell_type": "markdown",
   "id": "2746bc23",
   "metadata": {
    "papermill": {
     "duration": 0.036072,
     "end_time": "2024-05-23T18:25:42.277748",
     "exception": false,
     "start_time": "2024-05-23T18:25:42.241676",
     "status": "completed"
    },
    "tags": []
   },
   "source": [
    "# Display Images"
   ]
  },
  {
   "cell_type": "code",
   "execution_count": null,
   "id": "3a9e3f30",
   "metadata": {
    "execution": {
     "iopub.execute_input": "2024-05-23T18:25:42.357711Z",
     "iopub.status.busy": "2024-05-23T18:25:42.356882Z",
     "iopub.status.idle": "2024-05-23T18:25:42.669402Z",
     "shell.execute_reply": "2024-05-23T18:25:42.670012Z",
     "shell.execute_reply.started": "2024-05-23T18:00:51.658709Z"
    },
    "papermill": {
     "duration": 0.354971,
     "end_time": "2024-05-23T18:25:42.670275",
     "exception": false,
     "start_time": "2024-05-23T18:25:42.315304",
     "status": "completed"
    },
    "tags": []
   },
   "outputs": [],
   "source": [
    "fig, ax = plt.subplots(figsize=(10, 10))\n",
    "ax.imshow(img_mpl)\n",
    "ax.axis('off')\n",
    "plt.show()"
   ]
  },
  {
   "cell_type": "markdown",
   "id": "12acb86b",
   "metadata": {
    "papermill": {
     "duration": 0.047214,
     "end_time": "2024-05-23T18:25:42.765995",
     "exception": false,
     "start_time": "2024-05-23T18:25:42.718781",
     "status": "completed"
    },
    "tags": []
   },
   "source": [
    "# Image Channels\n",
    "\n",
    "\n",
    "\n",
    "## RGB Channels\n",
    "\n",
    "An RGB image has three channels: red, green, and blue. RGB channels roughly follow the color receptors in the human eye, and are used in computer displays and image scanners.\n",
    "\n",
    "Source: [Wikipedia](https://en.wikipedia.org/wiki/Channel_(digital_image)#:~:text=RGB%20images,-An%20RGB%20image&text=If%20the%20RGB%20image%20is,intensities%20between%200%20and%20255.)\n",
    "\n",
    "<img src=\"https://i.imgur.com/g0R7AD3.png\" alt=\"Result3\" style=\"height: 300px; width:300px;\"/>\n"
   ]
  },
  {
   "cell_type": "code",
   "execution_count": null,
   "id": "f04b4a27",
   "metadata": {
    "execution": {
     "iopub.execute_input": "2024-05-23T18:25:42.871263Z",
     "iopub.status.busy": "2024-05-23T18:25:42.870190Z",
     "iopub.status.idle": "2024-05-23T18:25:43.164294Z",
     "shell.execute_reply": "2024-05-23T18:25:43.164881Z",
     "shell.execute_reply.started": "2022-03-19T15:03:56.655513Z"
    },
    "papermill": {
     "duration": 0.350128,
     "end_time": "2024-05-23T18:25:43.165100",
     "exception": false,
     "start_time": "2024-05-23T18:25:42.814972",
     "status": "completed"
    },
    "tags": []
   },
   "outputs": [],
   "source": [
    "# Display RGB Channels of our image\n",
    "fig, axs = plt.subplots(1, 3, figsize=(15, 5))\n",
    "axs[0].imshow(img_mpl[:,:,0], cmap='Reds')\n",
    "axs[1].imshow(img_mpl[:,:,1], cmap='Greens')\n",
    "axs[2].imshow(img_mpl[:,:,2], cmap='Blues')\n",
    "axs[0].axis('off')\n",
    "axs[1].axis('off')\n",
    "axs[2].axis('off')\n",
    "axs[0].set_title('Red channel')\n",
    "axs[1].set_title('Green channel')\n",
    "axs[2].set_title('Blue channel')\n",
    "plt.show()"
   ]
  },
  {
   "cell_type": "markdown",
   "id": "23247977",
   "metadata": {
    "papermill": {
     "duration": 0.055717,
     "end_time": "2024-05-23T18:25:43.277523",
     "exception": false,
     "start_time": "2024-05-23T18:25:43.221806",
     "status": "completed"
    },
    "tags": []
   },
   "source": [
    "# Matplotlib vs cv2 Numpy Arrays\n",
    "- cv2 reads in channels as BGR\n",
    "- matplotlib reads in channels as RGB\n"
   ]
  },
  {
   "cell_type": "code",
   "execution_count": null,
   "id": "86442237",
   "metadata": {
    "execution": {
     "iopub.execute_input": "2024-05-23T18:25:43.443771Z",
     "iopub.status.busy": "2024-05-23T18:25:43.409433Z",
     "iopub.status.idle": "2024-05-23T18:25:43.641098Z",
     "shell.execute_reply": "2024-05-23T18:25:43.641691Z",
     "shell.execute_reply.started": "2022-03-19T15:06:18.195009Z"
    },
    "papermill": {
     "duration": 0.30928,
     "end_time": "2024-05-23T18:25:43.641918",
     "exception": false,
     "start_time": "2024-05-23T18:25:43.332638",
     "status": "completed"
    },
    "tags": []
   },
   "outputs": [],
   "source": [
    "fig, axs = plt.subplots(1, 2, figsize=(10, 5))\n",
    "axs[0].imshow(img_cv2)\n",
    "axs[1].imshow(img_mpl)\n",
    "axs[0].axis('off')\n",
    "axs[1].axis('off')\n",
    "axs[0].set_title('CV2 Image')\n",
    "axs[1].set_title('Matplotlib Image')\n",
    "plt.show()"
   ]
  },
  {
   "cell_type": "code",
   "execution_count": null,
   "id": "d8d2fb4d",
   "metadata": {
    "execution": {
     "iopub.execute_input": "2024-05-23T18:25:43.780636Z",
     "iopub.status.busy": "2024-05-23T18:25:43.779479Z",
     "iopub.status.idle": "2024-05-23T18:25:43.959866Z",
     "shell.execute_reply": "2024-05-23T18:25:43.960485Z",
     "shell.execute_reply.started": "2022-03-19T15:09:09.212606Z"
    },
    "papermill": {
     "duration": 0.249699,
     "end_time": "2024-05-23T18:25:43.960704",
     "exception": false,
     "start_time": "2024-05-23T18:25:43.711005",
     "status": "completed"
    },
    "tags": []
   },
   "outputs": [],
   "source": [
    "# Converting from BGR to RGB\n",
    "img_cv2_rgb = cv2.cvtColor(img_cv2, cv2.COLOR_BGR2RGB)\n",
    "fig, ax = plt.subplots()\n",
    "ax.imshow(img_cv2_rgb)\n",
    "ax.axis('off')\n",
    "plt.show()"
   ]
  },
  {
   "cell_type": "markdown",
   "id": "75c2f438",
   "metadata": {
    "papermill": {
     "duration": 0.067327,
     "end_time": "2024-05-23T18:25:44.095935",
     "exception": false,
     "start_time": "2024-05-23T18:25:44.028608",
     "status": "completed"
    },
    "tags": []
   },
   "source": [
    "# Image Manipulation"
   ]
  },
  {
   "cell_type": "code",
   "execution_count": null,
   "id": "3c8bc8ff",
   "metadata": {
    "execution": {
     "iopub.execute_input": "2024-05-23T18:25:44.236453Z",
     "iopub.status.busy": "2024-05-23T18:25:44.235371Z",
     "iopub.status.idle": "2024-05-23T18:25:44.548320Z",
     "shell.execute_reply": "2024-05-23T18:25:44.548903Z",
     "shell.execute_reply.started": "2022-03-19T15:10:47.082995Z"
    },
    "papermill": {
     "duration": 0.384997,
     "end_time": "2024-05-23T18:25:44.549119",
     "exception": false,
     "start_time": "2024-05-23T18:25:44.164122",
     "status": "completed"
    },
    "tags": []
   },
   "outputs": [],
   "source": [
    "img = plt.imread(inscript_files[4])\n",
    "fig, ax = plt.subplots(figsize=(8, 8))\n",
    "ax.imshow(img)\n",
    "ax.axis('off')\n",
    "plt.show()"
   ]
  },
  {
   "cell_type": "code",
   "execution_count": null,
   "id": "b5fd7c90",
   "metadata": {
    "execution": {
     "iopub.execute_input": "2024-05-23T18:25:44.749986Z",
     "iopub.status.busy": "2024-05-23T18:25:44.749136Z",
     "iopub.status.idle": "2024-05-23T18:25:45.012738Z",
     "shell.execute_reply": "2024-05-23T18:25:45.013655Z",
     "shell.execute_reply.started": "2022-03-19T15:13:00.331205Z"
    },
    "papermill": {
     "duration": 0.356885,
     "end_time": "2024-05-23T18:25:45.013950",
     "exception": false,
     "start_time": "2024-05-23T18:25:44.657065",
     "status": "completed"
    },
    "tags": []
   },
   "outputs": [],
   "source": [
    "img_gray = cv2.cvtColor(img, cv2.COLOR_RGB2GRAY)\n",
    "fig, ax = plt.subplots(figsize=(8, 8))\n",
    "ax.imshow(img_gray, cmap='Greys')\n",
    "ax.axis('off')\n",
    "ax.set_title('Grey Image')\n",
    "plt.show()"
   ]
  },
  {
   "cell_type": "markdown",
   "id": "72af463b",
   "metadata": {
    "papermill": {
     "duration": 0.097344,
     "end_time": "2024-05-23T18:25:45.208191",
     "exception": false,
     "start_time": "2024-05-23T18:25:45.110847",
     "status": "completed"
    },
    "tags": []
   },
   "source": [
    "# Resizing and Scaling"
   ]
  },
  {
   "cell_type": "code",
   "execution_count": null,
   "id": "0eda49d1",
   "metadata": {
    "execution": {
     "iopub.execute_input": "2024-05-23T18:25:45.407867Z",
     "iopub.status.busy": "2024-05-23T18:25:45.406980Z",
     "iopub.status.idle": "2024-05-23T18:25:45.507197Z",
     "shell.execute_reply": "2024-05-23T18:25:45.508435Z",
     "shell.execute_reply.started": "2022-03-19T15:13:56.89699Z"
    },
    "papermill": {
     "duration": 0.20245,
     "end_time": "2024-05-23T18:25:45.508861",
     "exception": false,
     "start_time": "2024-05-23T18:25:45.306411",
     "status": "completed"
    },
    "tags": []
   },
   "outputs": [],
   "source": [
    "img_resized = cv2.resize(img, None, fx=0.25, fy=0.25)\n",
    "fig, ax = plt.subplots(figsize=(8, 8))\n",
    "ax.imshow(img_resized)\n",
    "ax.axis('off')\n",
    "plt.show()"
   ]
  },
  {
   "cell_type": "code",
   "execution_count": null,
   "id": "9c40d81b",
   "metadata": {
    "execution": {
     "iopub.execute_input": "2024-05-23T18:25:45.751285Z",
     "iopub.status.busy": "2024-05-23T18:25:45.750380Z",
     "iopub.status.idle": "2024-05-23T18:25:45.937378Z",
     "shell.execute_reply": "2024-05-23T18:25:45.937961Z",
     "shell.execute_reply.started": "2022-03-19T15:15:08.733746Z"
    },
    "papermill": {
     "duration": 0.292177,
     "end_time": "2024-05-23T18:25:45.938196",
     "exception": false,
     "start_time": "2024-05-23T18:25:45.646019",
     "status": "completed"
    },
    "tags": []
   },
   "outputs": [],
   "source": [
    "# Different Size\n",
    "img_resize = cv2.resize(img, (100, 200))\n",
    "fig, ax = plt.subplots(figsize=(8, 8))\n",
    "ax.imshow(img_resize)\n",
    "ax.axis('off')\n",
    "plt.show()"
   ]
  },
  {
   "cell_type": "code",
   "execution_count": null,
   "id": "47f9cd3a",
   "metadata": {
    "execution": {
     "iopub.execute_input": "2024-05-23T18:25:46.156296Z",
     "iopub.status.busy": "2024-05-23T18:25:46.155440Z",
     "iopub.status.idle": "2024-05-23T18:25:49.120179Z",
     "shell.execute_reply": "2024-05-23T18:25:49.120754Z",
     "shell.execute_reply.started": "2022-03-19T15:16:26.096488Z"
    },
    "papermill": {
     "duration": 3.079642,
     "end_time": "2024-05-23T18:25:49.120955",
     "exception": false,
     "start_time": "2024-05-23T18:25:46.041313",
     "status": "completed"
    },
    "tags": []
   },
   "outputs": [],
   "source": [
    "img_resize = cv2.resize(img, (5000, 5000), interpolation = cv2.INTER_CUBIC)\n",
    "fig, ax = plt.subplots(figsize=(8, 8))\n",
    "ax.imshow(img_resize)\n",
    "ax.axis('off')\n",
    "plt.show()"
   ]
  },
  {
   "cell_type": "markdown",
   "id": "69ed27a3",
   "metadata": {
    "papermill": {
     "duration": 0.114824,
     "end_time": "2024-05-23T18:25:49.352783",
     "exception": false,
     "start_time": "2024-05-23T18:25:49.237959",
     "status": "completed"
    },
    "tags": []
   },
   "source": [
    "# CV2 Kernels\n"
   ]
  },
  {
   "cell_type": "code",
   "execution_count": null,
   "id": "3a671b9d",
   "metadata": {
    "execution": {
     "iopub.execute_input": "2024-05-23T18:25:49.595029Z",
     "iopub.status.busy": "2024-05-23T18:25:49.594173Z",
     "iopub.status.idle": "2024-05-23T18:25:49.865654Z",
     "shell.execute_reply": "2024-05-23T18:25:49.866286Z",
     "shell.execute_reply.started": "2022-03-19T15:22:07.744932Z"
    },
    "papermill": {
     "duration": 0.397488,
     "end_time": "2024-05-23T18:25:49.866491",
     "exception": false,
     "start_time": "2024-05-23T18:25:49.469003",
     "status": "completed"
    },
    "tags": []
   },
   "outputs": [],
   "source": [
    "# Sharpen Image\n",
    "kernel_sharpening = np.array([[-1,-1,-1], \n",
    "                              [-1,9,-1], \n",
    "                              [-1,-1,-1]])\n",
    "\n",
    "sharpened = cv2.filter2D(img, -1, kernel_sharpening)\n",
    "\n",
    "fig, ax = plt.subplots(figsize=(8, 8))\n",
    "ax.imshow(sharpened)\n",
    "ax.axis('off')\n",
    "ax.set_title('Sharpened Image')\n",
    "plt.show()"
   ]
  },
  {
   "cell_type": "code",
   "execution_count": null,
   "id": "746249fc",
   "metadata": {
    "execution": {
     "iopub.execute_input": "2024-05-23T18:25:50.146419Z",
     "iopub.status.busy": "2024-05-23T18:25:50.145269Z",
     "iopub.status.idle": "2024-05-23T18:25:50.451246Z",
     "shell.execute_reply": "2024-05-23T18:25:50.451854Z",
     "shell.execute_reply.started": "2022-03-19T15:23:58.670327Z"
    },
    "papermill": {
     "duration": 0.448456,
     "end_time": "2024-05-23T18:25:50.452048",
     "exception": false,
     "start_time": "2024-05-23T18:25:50.003592",
     "status": "completed"
    },
    "tags": []
   },
   "outputs": [],
   "source": [
    "# Blurring the image\n",
    "kernel_3x3 = np.ones((3, 3), np.float32) / 9\n",
    "blurred = cv2.filter2D(img, -1, kernel_3x3)\n",
    "fig, ax = plt.subplots(figsize=(8, 8))\n",
    "ax.imshow(blurred)\n",
    "ax.axis('off')\n",
    "ax.set_title('Blurred Image')\n",
    "plt.show()"
   ]
  },
  {
   "cell_type": "markdown",
   "id": "363de39a",
   "metadata": {
    "papermill": {
     "duration": 0.156655,
     "end_time": "2024-05-23T18:25:50.762467",
     "exception": false,
     "start_time": "2024-05-23T18:25:50.605812",
     "status": "completed"
    },
    "tags": []
   },
   "source": [
    "# Save Image"
   ]
  },
  {
   "cell_type": "code",
   "execution_count": null,
   "id": "87d6b3da",
   "metadata": {
    "execution": {
     "iopub.execute_input": "2024-05-23T18:25:51.073110Z",
     "iopub.status.busy": "2024-05-23T18:25:51.072327Z",
     "iopub.status.idle": "2024-05-23T18:25:51.284335Z",
     "shell.execute_reply": "2024-05-23T18:25:51.283645Z",
     "shell.execute_reply.started": "2022-03-19T15:24:57.767555Z"
    },
    "papermill": {
     "duration": 0.370574,
     "end_time": "2024-05-23T18:25:51.284511",
     "exception": false,
     "start_time": "2024-05-23T18:25:50.913937",
     "status": "completed"
    },
    "tags": []
   },
   "outputs": [],
   "source": [
    "plt.imsave('2.png', blurred)\n",
    "cv2.imwrite('1.png', blurred)"
   ]
  },
  {
   "cell_type": "markdown",
   "id": "a5c6a289",
   "metadata": {
    "papermill": {
     "duration": 0.153238,
     "end_time": "2024-05-23T18:25:51.589176",
     "exception": false,
     "start_time": "2024-05-23T18:25:51.435938",
     "status": "completed"
    },
    "tags": []
   },
   "source": [
    "# Let's create an artificial image"
   ]
  },
  {
   "cell_type": "code",
   "execution_count": null,
   "id": "3166f17f",
   "metadata": {
    "execution": {
     "iopub.execute_input": "2024-05-23T18:25:51.901450Z",
     "iopub.status.busy": "2024-05-23T18:25:51.898698Z",
     "iopub.status.idle": "2024-05-23T18:25:52.844549Z",
     "shell.execute_reply": "2024-05-23T18:25:52.845185Z",
     "shell.execute_reply.started": "2024-05-23T18:15:53.050462Z"
    },
    "papermill": {
     "duration": 1.102405,
     "end_time": "2024-05-23T18:25:52.845383",
     "exception": false,
     "start_time": "2024-05-23T18:25:51.742978",
     "status": "completed"
    },
    "tags": []
   },
   "outputs": [],
   "source": [
    "from skimage import io\n",
    "import numpy as np\n",
    "from matplotlib import pyplot as plt \n",
    "random_image = np.random.random([500, 500])\n",
    "plt.imshow(random_image)"
   ]
  },
  {
   "cell_type": "code",
   "execution_count": null,
   "id": "88a5daa6",
   "metadata": {
    "execution": {
     "iopub.execute_input": "2024-05-23T18:25:53.169883Z",
     "iopub.status.busy": "2024-05-23T18:25:53.169122Z",
     "iopub.status.idle": "2024-05-23T18:25:53.174712Z",
     "shell.execute_reply": "2024-05-23T18:25:53.175419Z",
     "shell.execute_reply.started": "2024-05-23T18:16:56.531672Z"
    },
    "papermill": {
     "duration": 0.171073,
     "end_time": "2024-05-23T18:25:53.175611",
     "exception": false,
     "start_time": "2024-05-23T18:25:53.004538",
     "status": "completed"
    },
    "tags": []
   },
   "outputs": [],
   "source": [
    "print(random_image*256)"
   ]
  },
  {
   "cell_type": "markdown",
   "id": "6a0f6eb4",
   "metadata": {
    "papermill": {
     "duration": 0.159057,
     "end_time": "2024-05-23T18:25:53.491873",
     "exception": false,
     "start_time": "2024-05-23T18:25:53.332816",
     "status": "completed"
    },
    "tags": []
   },
   "source": [
    "# The End"
   ]
  }
 ],
 "metadata": {
  "comment": "This notebook is developed by Shaghayegh Rahmani for EOPL project.",
  "kaggle": {
   "accelerator": "none",
   "dataSources": [
    {
     "datasetId": 23777,
     "sourceId": 30378,
     "sourceType": "datasetVersion"
    }
   ],
   "dockerImageVersionId": 30176,
   "isGpuEnabled": false,
   "isInternetEnabled": true,
   "language": "python",
   "sourceType": "notebook"
  },
  "kernelspec": {
   "display_name": "Python 3 (ipykernel)",
   "language": "python",
   "name": "python3"
  },
  "language_info": {
   "codemirror_mode": {
    "name": "ipython",
    "version": 3
   },
   "file_extension": ".py",
   "mimetype": "text/x-python",
   "name": "python",
   "nbconvert_exporter": "python",
   "pygments_lexer": "ipython3",
   "version": "3.10.12"
  },
  "papermill": {
   "default_parameters": {},
   "duration": 26.949856,
   "end_time": "2024-05-23T18:25:54.673137",
   "environment_variables": {},
   "exception": null,
   "input_path": "__notebook__.ipynb",
   "output_path": "__notebook__.ipynb",
   "parameters": {},
   "start_time": "2024-05-23T18:25:27.723281",
   "version": "2.3.3"
  },
  "toc": {
   "base_numbering": 1,
   "nav_menu": {},
   "number_sections": true,
   "sideBar": true,
   "skip_h1_title": false,
   "title_cell": "Table of Contents",
   "title_sidebar": "Contents",
   "toc_cell": false,
   "toc_position": {},
   "toc_section_display": true,
   "toc_window_display": false
  },
  "varInspector": {
   "cols": {
    "lenName": 16,
    "lenType": 16,
    "lenVar": 40
   },
   "kernels_config": {
    "python": {
     "delete_cmd_postfix": "",
     "delete_cmd_prefix": "del ",
     "library": "var_list.py",
     "varRefreshCmd": "print(var_dic_list())"
    },
    "r": {
     "delete_cmd_postfix": ") ",
     "delete_cmd_prefix": "rm(",
     "library": "var_list.r",
     "varRefreshCmd": "cat(var_dic_list()) "
    }
   },
   "types_to_exclude": [
    "module",
    "function",
    "builtin_function_or_method",
    "instance",
    "_Feature"
   ],
   "window_display": false
  }
 },
 "nbformat": 4,
 "nbformat_minor": 5
}
